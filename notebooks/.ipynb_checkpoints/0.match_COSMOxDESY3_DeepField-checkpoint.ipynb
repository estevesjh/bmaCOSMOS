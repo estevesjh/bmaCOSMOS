{
 "cells": [
  {
   "cell_type": "markdown",
   "metadata": {},
   "source": [
    "# Match COSMOS with DESY3 Deep Field\n",
    "\n",
    "The inupt directories were retrieved from:\n",
    "\n",
    "COSMOS 2015 (Laigle et al 2016) <br>\n",
    "<i>/data/des61.a/data/johnny/COSMOS/COSMOS2015_Laigle+_v1.1.fits</i><br>\n",
    "\n",
    "DES Deep Field Y3<br>\n",
    "<i>/data/des70.a/data/annis/StellarMass-2021/y3_deep_fields.fits</i><br>\n",
    "\n",
    "For more information: https://cdcvs.fnal.gov/redmine/projects/des-sci-release/wiki/Y3_deep_fields_cat\n"
   ]
  },
  {
   "cell_type": "code",
   "execution_count": 1,
   "metadata": {},
   "outputs": [],
   "source": [
    "import esutil\n",
    "import numpy as np\n",
    "import os\n",
    "import esutil"
   ]
  },
  {
   "cell_type": "code",
   "execution_count": 2,
   "metadata": {},
   "outputs": [],
   "source": [
    "import matplotlib.pyplot as plt"
   ]
  },
  {
   "cell_type": "markdown",
   "metadata": {},
   "source": [
    "# Auxialiary Functions"
   ]
  },
  {
   "cell_type": "code",
   "execution_count": 3,
   "metadata": {},
   "outputs": [],
   "source": [
    "def match_sky_coordinates(ra0,dec0,ra1,dec1,radius=0.2/3600):\n",
    "    sep = (0.25/60/60) # 1 arcsec\n",
    "    depth=16\n",
    "    h=esutil.htm.HTM(depth)\n",
    "    #Inner match\n",
    "    m1i,m2i,disti=h.match(ra_cluster,dec_cluster,ra_galaxy,dec_galaxy,radius=sep,maxmatch=1)\n",
    "    return [m1i,m2i]"
   ]
  },
  {
   "cell_type": "code",
   "execution_count": 166,
   "metadata": {},
   "outputs": [],
   "source": []
  },
  {
   "cell_type": "markdown",
   "metadata": {},
   "source": [
    "# Loading the master file"
   ]
  },
  {
   "cell_type": "code",
   "execution_count": null,
   "metadata": {},
   "outputs": [],
   "source": []
  },
  {
   "cell_type": "code",
   "execution_count": null,
   "metadata": {},
   "outputs": [],
   "source": []
  },
  {
   "cell_type": "code",
   "execution_count": null,
   "metadata": {},
   "outputs": [],
   "source": []
  }
 ],
 "metadata": {
  "kernelspec": {
   "display_name": "Python 2",
   "language": "python",
   "name": "python2"
  },
  "language_info": {
   "codemirror_mode": {
    "name": "ipython",
    "version": 2
   },
   "file_extension": ".py",
   "mimetype": "text/x-python",
   "name": "python",
   "nbconvert_exporter": "python",
   "pygments_lexer": "ipython2",
   "version": "2.7.15"
  }
 },
 "nbformat": 4,
 "nbformat_minor": 2
}
