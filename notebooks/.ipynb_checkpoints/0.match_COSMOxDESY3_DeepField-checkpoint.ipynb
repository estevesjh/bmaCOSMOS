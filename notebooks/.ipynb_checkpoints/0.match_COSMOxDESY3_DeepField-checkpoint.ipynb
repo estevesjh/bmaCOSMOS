{
 "cells": [
  {
   "cell_type": "markdown",
   "metadata": {},
   "source": [
    "# Match COSMOS with DESY3 Deep Field\n",
    "\n",
    "The inupt directories were retrieved from:\n",
    "\n",
    "COSMOS 2015 (Laigle et al 2016) <br>\n",
    "<i>/data/des61.a/data/johnny/COSMOS/COSMOS2015_Laigle+_v1.1.fits</i><br>\n",
    "\n",
    "DES Deep Field Y3<br>\n",
    "<i>/data/des70.a/data/annis/StellarMass-2021/y3_deep_fields.fits</i><br>\n",
    "\n",
    "For more information: https://cdcvs.fnal.gov/redmine/projects/des-sci-release/wiki/Y3_deep_fields_cat\n"
   ]
  },
  {
   "cell_type": "code",
   "execution_count": null,
   "metadata": {},
   "outputs": [],
   "source": [
    "import esutil\n",
    "import numpy as np\n",
    "import os\n",
    "import esutil"
   ]
  },
  {
   "cell_type": "code",
   "execution_count": null,
   "metadata": {},
   "outputs": [],
   "source": [
    "import matplotlib.pyplot as plt"
   ]
  },
  {
   "cell_type": "code",
   "execution_count": null,
   "metadata": {},
   "outputs": [],
   "source": [
    "from astropy.table import Table, vstack, join\n",
    "from astropy.io.fits import getdata"
   ]
  },
  {
   "cell_type": "code",
   "execution_count": null,
   "metadata": {},
   "outputs": [],
   "source": [
    "#image path\n",
    "path = '../graphs/'"
   ]
  },
  {
   "cell_type": "markdown",
   "metadata": {},
   "source": [
    "# Loading the deep fields"
   ]
  },
  {
   "cell_type": "code",
   "execution_count": null,
   "metadata": {},
   "outputs": [],
   "source": [
    "des_deep_field_infile = '/data/des70.a/data/annis/StellarMass-2021/y3_deep_fields.fits'\n",
    "des0 = Table(getdata(des_deep_field_infile))"
   ]
  },
  {
   "cell_type": "code",
   "execution_count": null,
   "metadata": {},
   "outputs": [],
   "source": [
    "des0['row'] = np.arange(len(des0),dtype=np.int64)"
   ]
  },
  {
   "cell_type": "code",
   "execution_count": null,
   "metadata": {},
   "outputs": [],
   "source": [
    "des0"
   ]
  },
  {
   "cell_type": "code",
   "execution_count": null,
   "metadata": {},
   "outputs": [],
   "source": [
    "patch = (des0['RA']>140)&(des0['DEC']>0)\n",
    "des   = des0[patch]"
   ]
  },
  {
   "cell_type": "code",
   "execution_count": null,
   "metadata": {},
   "outputs": [],
   "source": [
    "cosmo_infile = '/data/des61.a/data/johnny/COSMOS/COSMOS2015_Laigle+_v1.1.fits'\n",
    "cosmo0  = Table(getdata(cosmo_infile))"
   ]
  },
  {
   "cell_type": "code",
   "execution_count": null,
   "metadata": {},
   "outputs": [],
   "source": [
    "cosmo0"
   ]
  },
  {
   "cell_type": "code",
   "execution_count": null,
   "metadata": {},
   "outputs": [],
   "source": [
    "cosmo0.colnames"
   ]
  },
  {
   "cell_type": "code",
   "execution_count": null,
   "metadata": {},
   "outputs": [],
   "source": [
    "mybins = np.array([0.,0.5,1.])\n",
    "_ = plt.hist(cosmo0['TYPE'],bins=mybins)\n",
    "plt.yscale('log')"
   ]
  },
  {
   "cell_type": "code",
   "execution_count": null,
   "metadata": {},
   "outputs": [],
   "source": [
    "1.*np.count_nonzero(cosmo0['TYPE'])/len(cosmo0)"
   ]
  },
  {
   "cell_type": "code",
   "execution_count": null,
   "metadata": {},
   "outputs": [],
   "source": [
    "## only galaxies\n",
    "gals = cosmo0['TYPE']<1\n",
    "cosmo= cosmo0[gals]"
   ]
  },
  {
   "cell_type": "markdown",
   "metadata": {},
   "source": [
    "# Preparing To Sky Match "
   ]
  },
  {
   "cell_type": "code",
   "execution_count": null,
   "metadata": {},
   "outputs": [],
   "source": [
    "nsize = {'cosmo':len(cosmo),'des':len(des)}"
   ]
  },
  {
   "cell_type": "code",
   "execution_count": null,
   "metadata": {},
   "outputs": [],
   "source": [
    "nsize['cosmo'], nsize['des']"
   ]
  },
  {
   "cell_type": "code",
   "execution_count": null,
   "metadata": {},
   "outputs": [],
   "source": []
  },
  {
   "cell_type": "code",
   "execution_count": null,
   "metadata": {},
   "outputs": [],
   "source": [
    "indices= np.arange(len(cosmo0),dtype=np.int)\n",
    "mycols = ['ID','ALPHA_J2000','DELTA_J2000','r_MAG_AUTO']"
   ]
  },
  {
   "cell_type": "code",
   "execution_count": null,
   "metadata": {},
   "outputs": [],
   "source": [
    "indices"
   ]
  },
  {
   "cell_type": "code",
   "execution_count": null,
   "metadata": {},
   "outputs": [],
   "source": [
    "match = cosmo0[mycols]\n",
    "match.rename_column('ALPHA_J2000','RA')\n",
    "match.rename_column('DELTA_J2000','DEC')"
   ]
  },
  {
   "cell_type": "code",
   "execution_count": null,
   "metadata": {},
   "outputs": [],
   "source": [
    "match = "
   ]
  },
  {
   "cell_type": "code",
   "execution_count": null,
   "metadata": {},
   "outputs": [],
   "source": [
    "plt.scatter(match[::100]['RA'],match[::100]['DEC'],s=10,alpha=0.5)\n",
    "plt.scatter(des[::100]['RA'],des[::100]['DEC'],s=10,alpha=0.5)"
   ]
  },
  {
   "cell_type": "code",
   "execution_count": null,
   "metadata": {},
   "outputs": [],
   "source": []
  },
  {
   "cell_type": "code",
   "execution_count": null,
   "metadata": {},
   "outputs": [],
   "source": [
    "match"
   ]
  },
  {
   "cell_type": "code",
   "execution_count": null,
   "metadata": {},
   "outputs": [],
   "source": [
    "indices.size/1e6"
   ]
  },
  {
   "cell_type": "code",
   "execution_count": null,
   "metadata": {},
   "outputs": [],
   "source": [
    "len(des)/1e6"
   ]
  },
  {
   "cell_type": "code",
   "execution_count": null,
   "metadata": {},
   "outputs": [],
   "source": [
    "cosmo0 = 0"
   ]
  },
  {
   "cell_type": "markdown",
   "metadata": {},
   "source": [
    "# Sky Match \n",
    "\n",
    "Using the latest and fatest code to match sky positions, smatch https://github.com/esheldon/smatch. It's an updated idea of the HTM. <br>\n",
    "\n",
    "to install:\n",
    "pip3 install smatch --user or !pip install git+git://github.com/esheldon/smatch"
   ]
  },
  {
   "cell_type": "code",
   "execution_count": null,
   "metadata": {},
   "outputs": [],
   "source": [
    "## Old Code - 10 times slower\n",
    "def match_sky_coordinates(ra0,dec0,ra1,dec1,sep=1/60/60):\n",
    "    depth=10\n",
    "    h=esutil.htm.HTM(depth)\n",
    "    #Inner match\n",
    "    m1i,m2i,disti=h.match(ra0,dec0,ra1,dec1,radius=sep,maxmatch=1)\n",
    "    return [m1i,m2i,disti]"
   ]
  },
  {
   "cell_type": "code",
   "execution_count": null,
   "metadata": {},
   "outputs": [],
   "source": [
    "#id0, id1, dist = match_sky_coordinates(ra0,dec0,ra1,dec1,sep=1/60/60)"
   ]
  },
  {
   "cell_type": "code",
   "execution_count": null,
   "metadata": {},
   "outputs": [],
   "source": [
    "ra1 = des['RA']#[::5]\n",
    "dec1= des['DEC']#[::5]"
   ]
  },
  {
   "cell_type": "code",
   "execution_count": null,
   "metadata": {},
   "outputs": [],
   "source": [
    "ra2 = match['RA']\n",
    "dec2= match['DEC']"
   ]
  },
  {
   "cell_type": "code",
   "execution_count": null,
   "metadata": {},
   "outputs": [],
   "source": [
    "import smatch\n",
    "\n",
    "nside=4096 # healpix nside\n",
    "maxmatch=1 # return closest match\n",
    "\n",
    "# ra,dec,radius in degrees\n",
    "matches0 = smatch.match(ra1, dec1, 10./3600, ra2, dec2, nside=nside, maxmatch=maxmatch)\n",
    "\n",
    "des_matched = des[matches0['i1']]\n",
    "cos_matched = match[matches0['i2']]"
   ]
  },
  {
   "cell_type": "code",
   "execution_count": null,
   "metadata": {},
   "outputs": [],
   "source": [
    "## eulidean distance works for small offsets not using cos(dec) since it's close to the equator (dec ~ 0)\n",
    "\n",
    "dist = np.sqrt((des_matched['RA']-cos_matched['RA'])**2+(des_matched['DEC']-cos_matched['DEC'])**2)*3600"
   ]
  },
  {
   "cell_type": "code",
   "execution_count": null,
   "metadata": {},
   "outputs": [],
   "source": [
    "plt.figure(figsize=(5,4))\n",
    "_ = plt.hist(dist,bins=61)\n",
    "plt.axvline(1.1,ls='--',color='k',label='cut = %.2f arcsec'%(1.1))\n",
    "plt.yscale('log')\n",
    "plt.xlabel('arcsec',fontsize=18)\n",
    "plt.legend(fontsize=14)\n",
    "plt.title('distance between matches',fontsize=18)\n",
    "plt.tight_layout()\n",
    "plt.savefig(path+'match_distance.png')"
   ]
  },
  {
   "cell_type": "code",
   "execution_count": null,
   "metadata": {},
   "outputs": [],
   "source": []
  },
  {
   "cell_type": "code",
   "execution_count": null,
   "metadata": {},
   "outputs": [],
   "source": [
    "perc = np.linspace(1,99.8,300)\n",
    "dperc= np.percentile(dist,perc)"
   ]
  },
  {
   "cell_type": "code",
   "execution_count": null,
   "metadata": {},
   "outputs": [],
   "source": [
    "plt.scatter(dperc,perc)\n",
    "plt.plot([1.,1.],[0,100],'r--',lw=2,label='cut = %.2f arcsec'%(1.0))\n",
    "plt.plot([0.,10],[93,93],'k--',lw=2,label='_no_')\n",
    "plt.xscale('log')\n",
    "plt.legend(fontsize=14)\n",
    "plt.ylabel('percentiles',fontsize=18)\n",
    "plt.xlabel('distance [arcesc]',fontsize=18)"
   ]
  },
  {
   "cell_type": "code",
   "execution_count": null,
   "metadata": {},
   "outputs": [],
   "source": [
    "## Second match, with one arcsec"
   ]
  },
  {
   "cell_type": "code",
   "execution_count": null,
   "metadata": {},
   "outputs": [],
   "source": [
    "cat=smatch.Catalog(ra1, dec1, 1.1/3600, nside=nside)\n",
    "print(cat)\n",
    "\n",
    "cat.match(ra2, dec2, maxmatch=maxmatch)\n",
    "\n",
    "print(\"found:\",cat.nmatches,\"matches\")\n",
    "matches = cat.matches"
   ]
  },
  {
   "cell_type": "code",
   "execution_count": null,
   "metadata": {},
   "outputs": [],
   "source": [
    "cat=smatch.Catalog(ra1, dec1, 4./3600, nside=nside)\n",
    "print(cat)\n",
    "\n",
    "cat.match(ra2, dec2, maxmatch=maxmatch)\n",
    "\n",
    "print(\"found:\",cat.nmatches,\"matches\")\n",
    "matches4 = cat.matches"
   ]
  },
  {
   "cell_type": "markdown",
   "metadata": {},
   "source": [
    "# Which Threshold?\n",
    "\n",
    "What would be the best radius distance in this case? 1 or 10 arcesec?\n"
   ]
  },
  {
   "cell_type": "code",
   "execution_count": null,
   "metadata": {},
   "outputs": [],
   "source": [
    "nmatch0 = np.setdiff1d(range(nsize['des']), matches0['i1'])\n",
    "nmatch1 = np.setdiff1d(range(nsize['des']), matches['i1'])"
   ]
  },
  {
   "cell_type": "code",
   "execution_count": null,
   "metadata": {},
   "outputs": [],
   "source": [
    "des['COSMO'] = False\n",
    "des['COSMO'][matches0['i1']] = True"
   ]
  },
  {
   "cell_type": "code",
   "execution_count": null,
   "metadata": {},
   "outputs": [],
   "source": [
    "des['COSMO_1arcsec'] = False\n",
    "des['COSMO_1arcsec'][matches['i1']] = True"
   ]
  },
  {
   "cell_type": "code",
   "execution_count": null,
   "metadata": {},
   "outputs": [],
   "source": [
    "def makeBins(variable,xedges):\n",
    "    xbins = (xedges[1:]+xedges[:-1])/2\n",
    "    indices = [ np.where((variable >= xedges[i]) & (variable <= xedges[i + 1]))[0] for i in range(len(xedges)-1)]\n",
    "    return indices, xbins"
   ]
  },
  {
   "cell_type": "code",
   "execution_count": null,
   "metadata": {},
   "outputs": [],
   "source": [
    "mag = np.array(des['MAG_I'])"
   ]
  },
  {
   "cell_type": "code",
   "execution_count": null,
   "metadata": {},
   "outputs": [],
   "source": [
    "dm     = 1./2\n",
    "mbins  = np.arange(18,30+dm,dm)\n",
    "keys,mb= makeBins(mag,mbins)"
   ]
  },
  {
   "cell_type": "code",
   "execution_count": null,
   "metadata": {},
   "outputs": [],
   "source": [
    "def compute_fraction_matched(mask,indices):\n",
    "    return 1.*np.count_nonzero(mask[indices])/len(indices)"
   ]
  },
  {
   "cell_type": "code",
   "execution_count": null,
   "metadata": {},
   "outputs": [],
   "source": [
    "fm0 = [compute_fraction_matched(des['COSMO'],idx) for idx in keys]\n",
    "fm1 = [compute_fraction_matched(des['COSMO_1arcsec'],idx) for idx in keys]"
   ]
  },
  {
   "cell_type": "code",
   "execution_count": null,
   "metadata": {},
   "outputs": [],
   "source": [
    "plt.plot(mb,fm0,label=' < 10 arcsec')\n",
    "plt.plot(mb,fm1,label=' < 1 arcsec')\n",
    "plt.legend(fontsize=14)\n",
    "plt.xlabel('mag_i',fontsize=14)\n",
    "plt.title('fraction of matched: DES galaxies',fontsize=16)\n",
    "plt.tight_layout()\n",
    "plt.savefig(path+'matched_frac_des_gals.png')"
   ]
  },
  {
   "cell_type": "code",
   "execution_count": null,
   "metadata": {},
   "outputs": [],
   "source": [
    "fig, axis = plt.subplots(1, 2, figsize=(14,6), sharex='all',sharey='all')\n",
    "\n",
    "axis[0].scatter(des['RA'][nmatch0],des['DEC'][nmatch0],s=1,alpha=0.2)\n",
    "axis[1].scatter(des['RA'][nmatch1],des['DEC'][nmatch1],s=1,alpha=0.2,color='tab:orange')\n",
    "\n",
    "axis[1].set_xlabel('RA')\n",
    "axis[0].set_xlabel('RA')\n",
    "axis[0].set_ylabel('DEC')\n",
    "\n",
    "axis[0].set_title(' < 10 arcsec')\n",
    "axis[1].set_title(' < 1  arcsec')\n",
    "\n",
    "fig.suptitle('DES non matched sources',fontsize=18)\n",
    "fig.tight_layout()\n",
    "plt.savefig(path+'non_matched_sky_plot.png')"
   ]
  },
  {
   "cell_type": "code",
   "execution_count": null,
   "metadata": {},
   "outputs": [],
   "source": [
    "1.*matches0['i2'].size/nsize['cosmo']"
   ]
  },
  {
   "cell_type": "markdown",
   "metadata": {},
   "source": [
    "#### Comments\n",
    "the DECam psf is ~1\", but objects like stars are centroided to 1/10 or 1/00 of the PSF. Location isn’t the problem, deblending noise is the problem, and how objects are grouped into pixels to run the centroid on. Going to scales larger than the PSF is, after the random match background is understood, a study of deblending. Our focus is on a pure, isolated sample of galaxies to test stellar mass computation, so we stay close to the PSF."
   ]
  },
  {
   "cell_type": "code",
   "execution_count": null,
   "metadata": {},
   "outputs": [],
   "source": []
  },
  {
   "cell_type": "markdown",
   "metadata": {},
   "source": [
    "## Saving my selections"
   ]
  },
  {
   "cell_type": "code",
   "execution_count": null,
   "metadata": {},
   "outputs": [],
   "source": [
    "indices1,indices4,indices10 = [],[],[]\n",
    "\n",
    "indices1.append(np.array(des[matches['i1']]['row']))  ##  1 arcesc\n",
    "indices4.append(np.array(des[matches4['i1']]['row'])) ##  3 arcesc\n",
    "indices10.append(np.array(des[matches0['i1']]['row'])) ## 10 arcesc\n",
    "\n",
    "indices1.append(np.array(match[matches['i2']]['ID']))  ##  1 arcesc\n",
    "indices4.append(np.array(match[matches4['i2']]['ID'])) ##  3 arcesc\n",
    "indices10.append(np.array(match[matches0['i2']]['ID'])) ## 10 arcesc"
   ]
  },
  {
   "cell_type": "code",
   "execution_count": null,
   "metadata": {},
   "outputs": [],
   "source": []
  },
  {
   "cell_type": "code",
   "execution_count": null,
   "metadata": {},
   "outputs": [],
   "source": [
    "names = ['../data/%s_indices_matched'%field for field in ['des','cosmos']]"
   ]
  },
  {
   "cell_type": "code",
   "execution_count": null,
   "metadata": {},
   "outputs": [],
   "source": [
    "for i,name in enumerate(names):\n",
    "    np.save('%s_01arcsec.npy'%name,indices1[i]) # np.load('%s_1arcsec.npy'%name)\n",
    "    np.save('%s_04arcsec.npy'%name,indices4[i])\n",
    "    np.save('%s_10arcsec.npy'%name,indices10[i])"
   ]
  },
  {
   "cell_type": "code",
   "execution_count": null,
   "metadata": {},
   "outputs": [],
   "source": [
    "# id1 = np.load('%s_1arcsec.npy'%name)"
   ]
  },
  {
   "cell_type": "code",
   "execution_count": null,
   "metadata": {},
   "outputs": [],
   "source": []
  },
  {
   "cell_type": "code",
   "execution_count": null,
   "metadata": {},
   "outputs": [],
   "source": [
    "1.*indices4[0].size/indices10[0].size"
   ]
  },
  {
   "cell_type": "code",
   "execution_count": null,
   "metadata": {},
   "outputs": [],
   "source": [
    "1.*indices10[0].size/nsize['des']"
   ]
  },
  {
   "cell_type": "code",
   "execution_count": null,
   "metadata": {},
   "outputs": [],
   "source": [
    "indices10[0].size"
   ]
  },
  {
   "cell_type": "code",
   "execution_count": null,
   "metadata": {},
   "outputs": [],
   "source": []
  }
 ],
 "metadata": {
  "kernelspec": {
   "display_name": "Python 2",
   "language": "python",
   "name": "python2"
  },
  "language_info": {
   "codemirror_mode": {
    "name": "ipython",
    "version": 2
   },
   "file_extension": ".py",
   "mimetype": "text/x-python",
   "name": "python",
   "nbconvert_exporter": "python",
   "pygments_lexer": "ipython2",
   "version": "2.7.15"
  }
 },
 "nbformat": 4,
 "nbformat_minor": 2
}
