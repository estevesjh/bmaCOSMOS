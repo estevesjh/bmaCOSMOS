{
 "cells": [
  {
   "cell_type": "code",
   "execution_count": 1,
   "metadata": {},
   "outputs": [],
   "source": [
    "## make BMA sample"
   ]
  },
  {
   "cell_type": "code",
   "execution_count": 60,
   "metadata": {},
   "outputs": [],
   "source": [
    "import esutil\n",
    "import numpy as np\n",
    "import h5py\n",
    "import os"
   ]
  },
  {
   "cell_type": "code",
   "execution_count": 53,
   "metadata": {},
   "outputs": [],
   "source": [
    "h=0.7\n",
    "def make_bma_catalog_cut(fname,zmin=0.1,zmax=1.,rin=4,rout=6,dz=0.05,dmag_lim=0.,h=0.7):\n",
    "    fmaster = h5py.File(fname, \"a\")\n",
    "\n",
    "    ## check if bma already exists\n",
    "    if check_not_hf5(fmaster['members'],'bma_bkg'):\n",
    "        print('making bma cutout')\n",
    "        columns = fmaster['members/main']\n",
    "        radii   = fmaster['members/main/R'][:]*h\n",
    "        dmag    = fmaster['members/main/dmag'][:]\n",
    "        zoff    = fmaster['members/main/zoffset'][:]\n",
    "        mid     = fmaster['members/main/mid'][:]\n",
    "        z       = fmaster['members/main/z_true'][:]\n",
    "\n",
    "        #cut,    = np.where((radii<=rmax)&(dmag<=dmag_lim))\n",
    "        mask  = (z<=zmax)&(z>=zmin)\n",
    "        mask  = (radii<=rout)&(radii>=rin)\n",
    "        mask &= (np.abs(zoff)<=dz)\n",
    "        cut   = esutil.numpy_util.where1(mask)\n",
    "        \n",
    "#         fmaster.create_group('members/bma_bkg/')\n",
    "#         fmaster.create_dataset('members/bma_bkg/mid/', data=mid[cut])\n",
    "#         fmaster['members/bma_bkg/'].attrs['rout'] = rout\n",
    "#         fmaster['members/bma_bkg/'].attrs['rin']  = rin\n",
    "#         fmaster['members/bma_bkg/'].attrs['zmin'] = zmin\n",
    "#         fmaster['members/bma_bkg/'].attrs['zmax'] = zmax\n",
    "#         fmaster['members/bma_bkg/'].attrs['dmag'] = dmag_lim\n",
    "#         fmaster['members/bma_bkg/'].attrs['nsize'] = int(cut.size)\n",
    "    else:\n",
    "        print('BMA cut already exists; overwrite=False')\n",
    "\n",
    "    bma_indices = mid[cut]#fmaster['members/bma_bkg/mid/'][:]\n",
    "    fmaster.close()\n",
    "    return bma_indices"
   ]
  },
  {
   "cell_type": "code",
   "execution_count": 54,
   "metadata": {},
   "outputs": [],
   "source": [
    "def check_not_hf5(hf,path):\n",
    "    return path not in hf.keys()"
   ]
  },
  {
   "cell_type": "code",
   "execution_count": 55,
   "metadata": {},
   "outputs": [],
   "source": [
    "mfile = '/data/des61.a/data/johnny/CosmoDC2/sample2021/outputs/cosmoDC2_v1.1.4_copa.hdf5'"
   ]
  },
  {
   "cell_type": "code",
   "execution_count": 56,
   "metadata": {},
   "outputs": [
    {
     "name": "stdout",
     "output_type": "stream",
     "text": [
      "making bma cutout\n"
     ]
    }
   ],
   "source": [
    "indices = make_bma_catalog_cut(mfile,zmin=0.1,zmax=1.,rin=5.75,rout=6.,dz=0.025,dmag_lim=0.)"
   ]
  },
  {
   "cell_type": "code",
   "execution_count": 57,
   "metadata": {},
   "outputs": [
    {
     "data": {
      "text/plain": [
       "'2.09e+05'"
      ]
     },
     "execution_count": 57,
     "metadata": {},
     "output_type": "execute_result"
    }
   ],
   "source": [
    "'%.2e'%indices.size"
   ]
  },
  {
   "cell_type": "code",
   "execution_count": 58,
   "metadata": {},
   "outputs": [
    {
     "data": {
      "text/plain": [
       "2089"
      ]
     },
     "execution_count": 58,
     "metadata": {},
     "output_type": "execute_result"
    }
   ],
   "source": [
    "indices.size/100"
   ]
  },
  {
   "cell_type": "code",
   "execution_count": 63,
   "metadata": {},
   "outputs": [],
   "source": [
    "root  = os.path.dirname(mfile)+'/'"
   ]
  },
  {
   "cell_type": "code",
   "execution_count": 69,
   "metadata": {},
   "outputs": [],
   "source": [
    "bma_temp_input_files = [root+'/temp_file/bkg_input_{:05d}.hdf5'.format(i+1) for i in range(nchunks)]"
   ]
  },
  {
   "cell_type": "code",
   "execution_count": 70,
   "metadata": {},
   "outputs": [
    {
     "data": {
      "text/plain": [
       "['/data/des61.a/data/johnny/CosmoDC2/sample2021/outputs/temp_file/bkg_input_00001.hdf5',\n",
       " '/data/des61.a/data/johnny/CosmoDC2/sample2021/outputs/temp_file/bkg_input_00002.hdf5',\n",
       " '/data/des61.a/data/johnny/CosmoDC2/sample2021/outputs/temp_file/bkg_input_00003.hdf5',\n",
       " '/data/des61.a/data/johnny/CosmoDC2/sample2021/outputs/temp_file/bkg_input_00004.hdf5',\n",
       " '/data/des61.a/data/johnny/CosmoDC2/sample2021/outputs/temp_file/bkg_input_00005.hdf5',\n",
       " '/data/des61.a/data/johnny/CosmoDC2/sample2021/outputs/temp_file/bkg_input_00006.hdf5',\n",
       " '/data/des61.a/data/johnny/CosmoDC2/sample2021/outputs/temp_file/bkg_input_00007.hdf5',\n",
       " '/data/des61.a/data/johnny/CosmoDC2/sample2021/outputs/temp_file/bkg_input_00008.hdf5',\n",
       " '/data/des61.a/data/johnny/CosmoDC2/sample2021/outputs/temp_file/bkg_input_00009.hdf5',\n",
       " '/data/des61.a/data/johnny/CosmoDC2/sample2021/outputs/temp_file/bkg_input_00010.hdf5',\n",
       " '/data/des61.a/data/johnny/CosmoDC2/sample2021/outputs/temp_file/bkg_input_00011.hdf5',\n",
       " '/data/des61.a/data/johnny/CosmoDC2/sample2021/outputs/temp_file/bkg_input_00012.hdf5',\n",
       " '/data/des61.a/data/johnny/CosmoDC2/sample2021/outputs/temp_file/bkg_input_00013.hdf5',\n",
       " '/data/des61.a/data/johnny/CosmoDC2/sample2021/outputs/temp_file/bkg_input_00014.hdf5',\n",
       " '/data/des61.a/data/johnny/CosmoDC2/sample2021/outputs/temp_file/bkg_input_00015.hdf5',\n",
       " '/data/des61.a/data/johnny/CosmoDC2/sample2021/outputs/temp_file/bkg_input_00016.hdf5',\n",
       " '/data/des61.a/data/johnny/CosmoDC2/sample2021/outputs/temp_file/bkg_input_00017.hdf5',\n",
       " '/data/des61.a/data/johnny/CosmoDC2/sample2021/outputs/temp_file/bkg_input_00018.hdf5',\n",
       " '/data/des61.a/data/johnny/CosmoDC2/sample2021/outputs/temp_file/bkg_input_00019.hdf5',\n",
       " '/data/des61.a/data/johnny/CosmoDC2/sample2021/outputs/temp_file/bkg_input_00020.hdf5',\n",
       " '/data/des61.a/data/johnny/CosmoDC2/sample2021/outputs/temp_file/bkg_input_00021.hdf5',\n",
       " '/data/des61.a/data/johnny/CosmoDC2/sample2021/outputs/temp_file/bkg_input_00022.hdf5',\n",
       " '/data/des61.a/data/johnny/CosmoDC2/sample2021/outputs/temp_file/bkg_input_00023.hdf5',\n",
       " '/data/des61.a/data/johnny/CosmoDC2/sample2021/outputs/temp_file/bkg_input_00024.hdf5',\n",
       " '/data/des61.a/data/johnny/CosmoDC2/sample2021/outputs/temp_file/bkg_input_00025.hdf5',\n",
       " '/data/des61.a/data/johnny/CosmoDC2/sample2021/outputs/temp_file/bkg_input_00026.hdf5',\n",
       " '/data/des61.a/data/johnny/CosmoDC2/sample2021/outputs/temp_file/bkg_input_00027.hdf5',\n",
       " '/data/des61.a/data/johnny/CosmoDC2/sample2021/outputs/temp_file/bkg_input_00028.hdf5',\n",
       " '/data/des61.a/data/johnny/CosmoDC2/sample2021/outputs/temp_file/bkg_input_00029.hdf5',\n",
       " '/data/des61.a/data/johnny/CosmoDC2/sample2021/outputs/temp_file/bkg_input_00030.hdf5',\n",
       " '/data/des61.a/data/johnny/CosmoDC2/sample2021/outputs/temp_file/bkg_input_00031.hdf5',\n",
       " '/data/des61.a/data/johnny/CosmoDC2/sample2021/outputs/temp_file/bkg_input_00032.hdf5',\n",
       " '/data/des61.a/data/johnny/CosmoDC2/sample2021/outputs/temp_file/bkg_input_00033.hdf5',\n",
       " '/data/des61.a/data/johnny/CosmoDC2/sample2021/outputs/temp_file/bkg_input_00034.hdf5',\n",
       " '/data/des61.a/data/johnny/CosmoDC2/sample2021/outputs/temp_file/bkg_input_00035.hdf5',\n",
       " '/data/des61.a/data/johnny/CosmoDC2/sample2021/outputs/temp_file/bkg_input_00036.hdf5',\n",
       " '/data/des61.a/data/johnny/CosmoDC2/sample2021/outputs/temp_file/bkg_input_00037.hdf5',\n",
       " '/data/des61.a/data/johnny/CosmoDC2/sample2021/outputs/temp_file/bkg_input_00038.hdf5',\n",
       " '/data/des61.a/data/johnny/CosmoDC2/sample2021/outputs/temp_file/bkg_input_00039.hdf5',\n",
       " '/data/des61.a/data/johnny/CosmoDC2/sample2021/outputs/temp_file/bkg_input_00040.hdf5',\n",
       " '/data/des61.a/data/johnny/CosmoDC2/sample2021/outputs/temp_file/bkg_input_00041.hdf5',\n",
       " '/data/des61.a/data/johnny/CosmoDC2/sample2021/outputs/temp_file/bkg_input_00042.hdf5',\n",
       " '/data/des61.a/data/johnny/CosmoDC2/sample2021/outputs/temp_file/bkg_input_00043.hdf5',\n",
       " '/data/des61.a/data/johnny/CosmoDC2/sample2021/outputs/temp_file/bkg_input_00044.hdf5',\n",
       " '/data/des61.a/data/johnny/CosmoDC2/sample2021/outputs/temp_file/bkg_input_00045.hdf5',\n",
       " '/data/des61.a/data/johnny/CosmoDC2/sample2021/outputs/temp_file/bkg_input_00046.hdf5',\n",
       " '/data/des61.a/data/johnny/CosmoDC2/sample2021/outputs/temp_file/bkg_input_00047.hdf5',\n",
       " '/data/des61.a/data/johnny/CosmoDC2/sample2021/outputs/temp_file/bkg_input_00048.hdf5',\n",
       " '/data/des61.a/data/johnny/CosmoDC2/sample2021/outputs/temp_file/bkg_input_00049.hdf5',\n",
       " '/data/des61.a/data/johnny/CosmoDC2/sample2021/outputs/temp_file/bkg_input_00050.hdf5',\n",
       " '/data/des61.a/data/johnny/CosmoDC2/sample2021/outputs/temp_file/bkg_input_00051.hdf5',\n",
       " '/data/des61.a/data/johnny/CosmoDC2/sample2021/outputs/temp_file/bkg_input_00052.hdf5',\n",
       " '/data/des61.a/data/johnny/CosmoDC2/sample2021/outputs/temp_file/bkg_input_00053.hdf5',\n",
       " '/data/des61.a/data/johnny/CosmoDC2/sample2021/outputs/temp_file/bkg_input_00054.hdf5',\n",
       " '/data/des61.a/data/johnny/CosmoDC2/sample2021/outputs/temp_file/bkg_input_00055.hdf5',\n",
       " '/data/des61.a/data/johnny/CosmoDC2/sample2021/outputs/temp_file/bkg_input_00056.hdf5',\n",
       " '/data/des61.a/data/johnny/CosmoDC2/sample2021/outputs/temp_file/bkg_input_00057.hdf5',\n",
       " '/data/des61.a/data/johnny/CosmoDC2/sample2021/outputs/temp_file/bkg_input_00058.hdf5',\n",
       " '/data/des61.a/data/johnny/CosmoDC2/sample2021/outputs/temp_file/bkg_input_00059.hdf5',\n",
       " '/data/des61.a/data/johnny/CosmoDC2/sample2021/outputs/temp_file/bkg_input_00060.hdf5',\n",
       " '/data/des61.a/data/johnny/CosmoDC2/sample2021/outputs/temp_file/bkg_input_00061.hdf5',\n",
       " '/data/des61.a/data/johnny/CosmoDC2/sample2021/outputs/temp_file/bkg_input_00062.hdf5',\n",
       " '/data/des61.a/data/johnny/CosmoDC2/sample2021/outputs/temp_file/bkg_input_00063.hdf5',\n",
       " '/data/des61.a/data/johnny/CosmoDC2/sample2021/outputs/temp_file/bkg_input_00064.hdf5',\n",
       " '/data/des61.a/data/johnny/CosmoDC2/sample2021/outputs/temp_file/bkg_input_00065.hdf5',\n",
       " '/data/des61.a/data/johnny/CosmoDC2/sample2021/outputs/temp_file/bkg_input_00066.hdf5',\n",
       " '/data/des61.a/data/johnny/CosmoDC2/sample2021/outputs/temp_file/bkg_input_00067.hdf5',\n",
       " '/data/des61.a/data/johnny/CosmoDC2/sample2021/outputs/temp_file/bkg_input_00068.hdf5',\n",
       " '/data/des61.a/data/johnny/CosmoDC2/sample2021/outputs/temp_file/bkg_input_00069.hdf5',\n",
       " '/data/des61.a/data/johnny/CosmoDC2/sample2021/outputs/temp_file/bkg_input_00070.hdf5',\n",
       " '/data/des61.a/data/johnny/CosmoDC2/sample2021/outputs/temp_file/bkg_input_00071.hdf5',\n",
       " '/data/des61.a/data/johnny/CosmoDC2/sample2021/outputs/temp_file/bkg_input_00072.hdf5',\n",
       " '/data/des61.a/data/johnny/CosmoDC2/sample2021/outputs/temp_file/bkg_input_00073.hdf5',\n",
       " '/data/des61.a/data/johnny/CosmoDC2/sample2021/outputs/temp_file/bkg_input_00074.hdf5',\n",
       " '/data/des61.a/data/johnny/CosmoDC2/sample2021/outputs/temp_file/bkg_input_00075.hdf5',\n",
       " '/data/des61.a/data/johnny/CosmoDC2/sample2021/outputs/temp_file/bkg_input_00076.hdf5',\n",
       " '/data/des61.a/data/johnny/CosmoDC2/sample2021/outputs/temp_file/bkg_input_00077.hdf5',\n",
       " '/data/des61.a/data/johnny/CosmoDC2/sample2021/outputs/temp_file/bkg_input_00078.hdf5',\n",
       " '/data/des61.a/data/johnny/CosmoDC2/sample2021/outputs/temp_file/bkg_input_00079.hdf5',\n",
       " '/data/des61.a/data/johnny/CosmoDC2/sample2021/outputs/temp_file/bkg_input_00080.hdf5',\n",
       " '/data/des61.a/data/johnny/CosmoDC2/sample2021/outputs/temp_file/bkg_input_00081.hdf5',\n",
       " '/data/des61.a/data/johnny/CosmoDC2/sample2021/outputs/temp_file/bkg_input_00082.hdf5',\n",
       " '/data/des61.a/data/johnny/CosmoDC2/sample2021/outputs/temp_file/bkg_input_00083.hdf5',\n",
       " '/data/des61.a/data/johnny/CosmoDC2/sample2021/outputs/temp_file/bkg_input_00084.hdf5',\n",
       " '/data/des61.a/data/johnny/CosmoDC2/sample2021/outputs/temp_file/bkg_input_00085.hdf5',\n",
       " '/data/des61.a/data/johnny/CosmoDC2/sample2021/outputs/temp_file/bkg_input_00086.hdf5',\n",
       " '/data/des61.a/data/johnny/CosmoDC2/sample2021/outputs/temp_file/bkg_input_00087.hdf5',\n",
       " '/data/des61.a/data/johnny/CosmoDC2/sample2021/outputs/temp_file/bkg_input_00088.hdf5',\n",
       " '/data/des61.a/data/johnny/CosmoDC2/sample2021/outputs/temp_file/bkg_input_00089.hdf5',\n",
       " '/data/des61.a/data/johnny/CosmoDC2/sample2021/outputs/temp_file/bkg_input_00090.hdf5',\n",
       " '/data/des61.a/data/johnny/CosmoDC2/sample2021/outputs/temp_file/bkg_input_00091.hdf5',\n",
       " '/data/des61.a/data/johnny/CosmoDC2/sample2021/outputs/temp_file/bkg_input_00092.hdf5',\n",
       " '/data/des61.a/data/johnny/CosmoDC2/sample2021/outputs/temp_file/bkg_input_00093.hdf5',\n",
       " '/data/des61.a/data/johnny/CosmoDC2/sample2021/outputs/temp_file/bkg_input_00094.hdf5',\n",
       " '/data/des61.a/data/johnny/CosmoDC2/sample2021/outputs/temp_file/bkg_input_00095.hdf5',\n",
       " '/data/des61.a/data/johnny/CosmoDC2/sample2021/outputs/temp_file/bkg_input_00096.hdf5',\n",
       " '/data/des61.a/data/johnny/CosmoDC2/sample2021/outputs/temp_file/bkg_input_00097.hdf5',\n",
       " '/data/des61.a/data/johnny/CosmoDC2/sample2021/outputs/temp_file/bkg_input_00098.hdf5',\n",
       " '/data/des61.a/data/johnny/CosmoDC2/sample2021/outputs/temp_file/bkg_input_00099.hdf5',\n",
       " '/data/des61.a/data/johnny/CosmoDC2/sample2021/outputs/temp_file/bkg_input_00100.hdf5']"
      ]
     },
     "execution_count": 70,
     "metadata": {},
     "output_type": "execute_result"
    }
   ],
   "source": [
    "bma_temp_input_files"
   ]
  },
  {
   "cell_type": "code",
   "execution_count": 77,
   "metadata": {},
   "outputs": [],
   "source": [
    "fname = mfile\n",
    "nsize  = indices.size\n",
    "nchunks= 100\n",
    "\n",
    "root  = os.path.dirname(mfile)\n",
    "bma_temp_input_files = [root+'/temp_file/bkg_input_{:05d}.hdf5'.format(i+1) for i in range(nchunks)]\n",
    "\n",
    "data = make_bma_input_temp_file(mfile,bma_temp_input_files,indices,nsize,nchunks)"
   ]
  },
  {
   "cell_type": "code",
   "execution_count": 83,
   "metadata": {},
   "outputs": [
    {
     "ename": "NameError",
     "evalue": "name 'plt' is not defined",
     "output_type": "error",
     "traceback": [
      "\u001b[0;31m---------------------------------------------------------------------------\u001b[0m",
      "\u001b[0;31mNameError\u001b[0m                                 Traceback (most recent call last)",
      "\u001b[0;32m<ipython-input-83-30c80a286576>\u001b[0m in \u001b[0;36m<module>\u001b[0;34m()\u001b[0m\n\u001b[0;32m----> 1\u001b[0;31m \u001b[0mplt\u001b[0m\u001b[0;34m.\u001b[0m\u001b[0mhist\u001b[0m\u001b[0;34m(\u001b[0m\u001b[0mdata\u001b[0m\u001b[0;34m[\u001b[0m\u001b[0;34m'i'\u001b[0m\u001b[0;34m]\u001b[0m\u001b[0;34m)\u001b[0m\u001b[0;34m\u001b[0m\u001b[0m\n\u001b[0m",
      "\u001b[0;31mNameError\u001b[0m: name 'plt' is not defined"
     ]
    }
   ],
   "source": [
    "plt.hist(data['i'])"
   ]
  },
  {
   "cell_type": "code",
   "execution_count": 71,
   "metadata": {},
   "outputs": [],
   "source": [
    "def write_bma_dict_temp_files(files,table,nsize,nchunks):\n",
    "    columns = table.keys()\n",
    "    idxs    = np.linspace(0,nsize,nchunks+1,dtype=np.int64)\n",
    "    \n",
    "    for i,file in enumerate(files):\n",
    "        if not os.path.isfile(file):\n",
    "            hf = h5py.File(file,'w')\n",
    "            hf.create_group('bma')\n",
    "            for col in columns:\n",
    "                ilo,iup = idxs[i],idxs[i+1]\n",
    "                hf.create_dataset('bma/%s/'%col,data=table[col][ilo:iup])\n",
    "            hf.close()\n",
    "    return files\n",
    "\n",
    "def read_hdf5_file_to_dict(file,cols=None,indices=None,path='/'):\n",
    "    hf = h5py.File(file, 'r')\n",
    "    \n",
    "    mygroup = hf[path]\n",
    "\n",
    "    if cols is None: cols  = list(mygroup.keys())\n",
    "    if indices is None: indices = np.arange(0,len(mygroup[cols[0]]),1,dtype=np.int64)\n",
    "\n",
    "    mydict= dict().fromkeys(cols)\n",
    "    for col in cols:\n",
    "        arr         = np.array(mygroup[col][:])\n",
    "        mydict[col] = arr[indices]\n",
    "    \n",
    "    hf.close()\n",
    "\n",
    "    return mydict"
   ]
  },
  {
   "cell_type": "code",
   "execution_count": 81,
   "metadata": {},
   "outputs": [],
   "source": [
    "def make_bma_input_temp_file(fname,files,indices,nsize,nchunks):\n",
    "    mcols       = ['mid','CID','z_true','mag','magerr']                ## master/main/ columns\n",
    "    out_columns = ['mid','CID','redshift','i','ierr','gr','ri','iz','grerr','rierr','izerr']\n",
    "    \n",
    "    data = []\n",
    "    if not os.path.isfile(files[0]):\n",
    "        mydict = read_hdf5_file_to_dict(fname,indices=indices,cols=mcols,path='members/main/')\n",
    "\n",
    "        out= dict().fromkeys(out_columns)\n",
    "        for col in mcols:\n",
    "            out[col] = mydict[col][:]\n",
    "        \n",
    "        out['indices'] = np.arange(0,out['mid'].size,1,dtype=np.int64)\n",
    "\n",
    "        out['i']    = mydict['mag'][:,2]\n",
    "        out['ierr'] = mydict['magerr'][:,2]\n",
    "\n",
    "        out['gr']   = mydict['mag'][:,0] - mydict['mag'][:,1]\n",
    "        out['ri']   = mydict['mag'][:,1] - mydict['mag'][:,2]\n",
    "        out['iz']   = mydict['mag'][:,2] - mydict['mag'][:,3]\n",
    "\n",
    "        out['grerr']= np.sqrt(mydict['magerr'][:,0]**2 + mydict['magerr'][:,1]**2)\n",
    "        out['rierr']= np.sqrt(mydict['magerr'][:,1]**2 + mydict['magerr'][:,2]**2)\n",
    "        out['izerr']= np.sqrt(mydict['magerr'][:,2]**2 + mydict['magerr'][:,3]**2)\n",
    "\n",
    "        #write_bma_dict_temp_files(files,out,nsize,nchunks)\n",
    "    return out"
   ]
  },
  {
   "cell_type": "code",
   "execution_count": null,
   "metadata": {},
   "outputs": [],
   "source": []
  }
 ],
 "metadata": {
  "kernelspec": {
   "display_name": "Python 2",
   "language": "python",
   "name": "python2"
  },
  "language_info": {
   "codemirror_mode": {
    "name": "ipython",
    "version": 2
   },
   "file_extension": ".py",
   "mimetype": "text/x-python",
   "name": "python",
   "nbconvert_exporter": "python",
   "pygments_lexer": "ipython2",
   "version": "2.7.15"
  }
 },
 "nbformat": 4,
 "nbformat_minor": 2
}
