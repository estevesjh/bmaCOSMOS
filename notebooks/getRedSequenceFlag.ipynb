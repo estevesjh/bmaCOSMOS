{
 "cells": [
  {
   "cell_type": "markdown",
   "metadata": {},
   "source": [
    "## Load Red Sequence Flag"
   ]
  },
  {
   "cell_type": "code",
   "execution_count": null,
   "metadata": {},
   "outputs": [],
   "source": []
  },
  {
   "cell_type": "code",
   "execution_count": 649,
   "metadata": {},
   "outputs": [],
   "source": [
    "import healpy\n",
    "import numpy as np\n",
    "import GCRCatalogs\n",
    "from astropy.coordinates import SkyCoord\n",
    "\n",
    "from time import time, sleep\n",
    "import pandas as pd\n",
    "import matplotlib.pyplot as plt\n",
    "\n",
    "from astropy.table import Table, vstack, join\n",
    "import fitsio\n",
    "from astropy.io.fits import getdata\n",
    "import astropy.io.ascii as at\n",
    "from astropy.io import fits as pyfits"
   ]
  },
  {
   "cell_type": "code",
   "execution_count": 650,
   "metadata": {},
   "outputs": [
    {
     "name": "stdout",
     "output_type": "stream",
     "text": [
      "/global/u2/j/jesteves/codes/bmaCosmoDC2/notebooks\n"
     ]
    }
   ],
   "source": [
    "!pwd"
   ]
  },
  {
   "cell_type": "code",
   "execution_count": 651,
   "metadata": {},
   "outputs": [],
   "source": [
    "gal = Table(getdata('../data/cosmoDC2_bma_cluster_galaxies.fits'))\n",
    "galb= Table(getdata('../data/cosmoDC2_bma_field_galaxies.fits'))"
   ]
  },
  {
   "cell_type": "code",
   "execution_count": 652,
   "metadata": {},
   "outputs": [],
   "source": [
    "gc = GCRCatalogs.load_catalog('cosmoDC2_v1.1.4_image_with_photozs_v1')"
   ]
  },
  {
   "cell_type": "code",
   "execution_count": 653,
   "metadata": {},
   "outputs": [],
   "source": [
    "tiles = gc._healpix_files.keys()\n",
    "tiles_array = np.array([toto[1] for toto in tiles])"
   ]
  },
  {
   "cell_type": "code",
   "execution_count": 654,
   "metadata": {},
   "outputs": [
    {
     "data": {
      "text/plain": [
       "array([10066, 10067, 10068, 10069, 10070, 10071, 10072, 10073, 10074,\n",
       "       10193, 10194, 10195, 10196, 10197, 10198, 10199, 10200, 10201,\n",
       "       10202, 10321, 10322, 10323, 10324, 10325, 10326, 10327, 10328,\n",
       "       10329, 10444, 10445, 10446, 10447, 10448, 10449, 10450, 10451,\n",
       "       10452,  8786,  8787,  8788,  8789,  8790,  8791,  8792,  8793,\n",
       "        8794,  8913,  8914,  8915,  8916,  8917,  8918,  8919,  8920,\n",
       "        8921,  9042,  9043,  9044,  9045,  9046,  9047,  9048,  9049,\n",
       "        9050,  9169,  9170,  9171,  9172,  9173,  9174,  9175,  9176,\n",
       "        9177,  9178,  9298,  9299,  9300,  9301,  9302,  9303,  9304,\n",
       "        9305,  9306,  9425,  9426,  9427,  9428,  9429,  9430,  9431,\n",
       "        9432,  9433,  9434,  9554,  9555,  9556,  9557,  9558,  9559,\n",
       "        9560,  9561,  9562,  9681,  9682,  9683,  9684,  9685,  9686,\n",
       "        9687,  9688,  9689,  9690,  9810,  9811,  9812,  9813,  9814,\n",
       "        9815,  9816,  9817,  9818,  9937,  9938,  9939,  9940,  9941,\n",
       "        9942,  9943,  9944,  9945,  9946, 10066, 10067, 10068, 10069,\n",
       "       10070, 10071, 10072, 10073, 10074, 10193, 10194, 10195, 10196,\n",
       "       10197, 10198, 10199, 10200, 10201, 10202, 10321, 10322, 10323,\n",
       "       10324, 10325, 10326, 10327, 10328, 10329, 10444, 10445, 10446,\n",
       "       10447, 10448, 10449, 10450, 10451, 10452,  8786,  8787,  8788,\n",
       "        8789,  8790,  8791,  8792,  8793,  8794,  8913,  8914,  8915,\n",
       "        8916,  8917,  8918,  8919,  8920,  8921,  9042,  9043,  9044,\n",
       "        9045,  9046,  9047,  9048,  9049,  9050,  9169,  9170,  9171,\n",
       "        9172,  9173,  9174,  9175,  9176,  9177,  9178,  9298,  9299,\n",
       "        9300,  9301,  9302,  9303,  9304,  9305,  9306,  9425,  9426,\n",
       "        9427,  9428,  9429,  9430,  9431,  9432,  9433,  9434,  9554,\n",
       "        9555,  9556,  9557,  9558,  9559,  9560,  9561,  9562,  9681,\n",
       "        9682,  9683,  9684,  9685,  9686,  9687,  9688,  9689,  9690,\n",
       "        9810,  9811,  9812,  9813,  9814,  9815,  9816,  9817,  9818,\n",
       "        9937,  9938,  9939,  9940,  9941,  9942,  9943,  9944,  9945,\n",
       "        9946, 10066, 10067, 10068, 10069, 10070, 10071, 10072, 10073,\n",
       "       10074, 10193, 10194, 10195, 10196, 10197, 10198, 10199, 10200,\n",
       "       10201, 10202, 10321, 10322, 10323, 10324, 10325, 10326, 10327,\n",
       "       10328, 10329, 10444, 10445, 10446, 10447, 10448, 10449, 10450,\n",
       "       10451, 10452,  8786,  8787,  8788,  8789,  8790,  8791,  8792,\n",
       "        8793,  8794,  8913,  8914,  8915,  8916,  8917,  8918,  8919,\n",
       "        8920,  8921,  9042,  9043,  9044,  9045,  9046,  9047,  9048,\n",
       "        9049,  9050,  9169,  9170,  9171,  9172,  9173,  9174,  9175,\n",
       "        9176,  9177,  9178,  9298,  9299,  9300,  9301,  9302,  9303,\n",
       "        9304,  9305,  9306,  9425,  9426,  9427,  9428,  9429,  9430,\n",
       "        9431,  9432,  9433,  9434,  9554,  9555,  9556,  9557,  9558,\n",
       "        9559,  9560,  9561,  9562,  9681,  9682,  9683,  9684,  9685,\n",
       "        9686,  9687,  9688,  9689,  9690,  9810,  9811,  9812,  9813,\n",
       "        9814,  9815,  9816,  9817,  9818,  9937,  9938,  9939,  9940,\n",
       "        9941,  9942,  9943,  9944,  9945,  9946])"
      ]
     },
     "execution_count": 654,
     "metadata": {},
     "output_type": "execute_result"
    }
   ],
   "source": [
    "tiles_array"
   ]
  },
  {
   "cell_type": "code",
   "execution_count": 655,
   "metadata": {},
   "outputs": [],
   "source": [
    "def match_samples(gals,data,sep=0.15/3600):\n",
    "    ra_cluster,dec_cluster = gals['RA'], gals['DEC']\n",
    "    ra_galaxy ,dec_galaxy  = data['ra'], data['dec']\n",
    "    \n",
    "    match = match_sky_coordinates(ra_cluster,dec_cluster,ra_galaxy,dec_galaxy,radius=sep)\n",
    "    ndata = data[match[1]]\n",
    "    ndata['GID'] = gals['GID'][match[0]]\n",
    "    ndata['ran'] = gals['RA'][match[0]]\n",
    "    ndata['decn']= gals['DEC'][match[0]]\n",
    "    return ndata"
   ]
  },
  {
   "cell_type": "code",
   "execution_count": 656,
   "metadata": {},
   "outputs": [],
   "source": [
    "def match_sky_coordinates(ra_cluster,dec_cluster,ra_galaxy,dec_galaxy,radius=0.2/3600):\n",
    "    sep = (0.25/60/60) # 1 arcsec\n",
    "    depth=16\n",
    "    h=esutil.htm.HTM(depth)\n",
    "    #Inner match\n",
    "    m1i,m2i,disti=h.match(ra_cluster,dec_cluster,ra_galaxy,dec_galaxy,radius=sep,maxmatch=1)\n",
    "    return [m1i,m2i]"
   ]
  },
  {
   "cell_type": "code",
   "execution_count": 657,
   "metadata": {},
   "outputs": [],
   "source": [
    "g0 = vstack([gal,galb])\n",
    "_, uindex = np.unique(g0['RA','DEC'],return_index=True)\n",
    "g = g0[uindex]"
   ]
  },
  {
   "cell_type": "code",
   "execution_count": 661,
   "metadata": {},
   "outputs": [],
   "source": [
    "unq, unq_idx = np.unique(g['GID'], return_inverse=True)\n",
    "unq_cnt = np.bincount(unq_idx)\n",
    "\n",
    "cnt_mask = unq_cnt > 1\n",
    "dup_ids = unq[cnt_mask]"
   ]
  },
  {
   "cell_type": "code",
   "execution_count": 662,
   "metadata": {},
   "outputs": [
    {
     "data": {
      "text/html": [
       "&lt;Column name=&apos;GID&apos; dtype=&apos;int64&apos; length=20&gt;\n",
       "<table>\n",
       "<tr><td>1313130478</td></tr>\n",
       "<tr><td>2313386309</td></tr>\n",
       "<tr><td>2937803602</td></tr>\n",
       "<tr><td>2938487000</td></tr>\n",
       "<tr><td>3250382559</td></tr>\n",
       "<tr><td>4125015195</td></tr>\n",
       "<tr><td>4250108530</td></tr>\n",
       "<tr><td>6750888473</td></tr>\n",
       "<tr><td>7000000292</td></tr>\n",
       "<tr><td>7250080529</td></tr>\n",
       "<tr><td>8064438548</td></tr>\n",
       "<tr><td>8875135166</td></tr>\n",
       "<tr><td>9000071767</td></tr>\n",
       "<tr><td>9875124020</td></tr>\n",
       "<tr><td>10375005310</td></tr>\n",
       "<tr><td>10938515415</td></tr>\n",
       "<tr><td>11062873648</td></tr>\n",
       "<tr><td>11188141444</td></tr>\n",
       "<tr><td>11188141457</td></tr>\n",
       "<tr><td>11375077494</td></tr>\n",
       "</table>"
      ],
      "text/plain": [
       "<Column name='GID' dtype='int64' length=20>\n",
       " 1313130478\n",
       " 2313386309\n",
       " 2937803602\n",
       " 2938487000\n",
       " 3250382559\n",
       " 4125015195\n",
       " 4250108530\n",
       " 6750888473\n",
       " 7000000292\n",
       " 7250080529\n",
       " 8064438548\n",
       " 8875135166\n",
       " 9000071767\n",
       " 9875124020\n",
       "10375005310\n",
       "10938515415\n",
       "11062873648\n",
       "11188141444\n",
       "11188141457\n",
       "11375077494"
      ]
     },
     "execution_count": 662,
     "metadata": {},
     "output_type": "execute_result"
    }
   ],
   "source": [
    "dup_ids"
   ]
  },
  {
   "cell_type": "code",
   "execution_count": 663,
   "metadata": {},
   "outputs": [],
   "source": [
    "cnt_idx, = np.nonzero(cnt_mask)\n",
    "idx_mask = np.in1d(unq_idx, cnt_idx)\n",
    "idx_idx, = np.nonzero(idx_mask)\n",
    "srt_idx = np.argsort(unq_idx[idx_mask])\n",
    "dup_idx = np.split(idx_idx[srt_idx], np.cumsum(unq_cnt[cnt_mask])[:-1])\n"
   ]
  },
  {
   "cell_type": "code",
   "execution_count": 400,
   "metadata": {},
   "outputs": [],
   "source": [
    "#print('\\n'.join(sorted(c for c in sorted(gc.list_all_native_quantities()) if c.startswith('baseDC2'))))"
   ]
  },
  {
   "cell_type": "code",
   "execution_count": 689,
   "metadata": {},
   "outputs": [
    {
     "data": {
      "text/html": [
       "<i>Row index=0</i>\n",
       "<table id=\"table46913459692208\">\n",
       "<thead><tr><th>magerr [4]</th><th>z_true</th><th>zoffset</th><th>dmag</th><th>CID</th><th>mid</th><th>GID</th><th>RA</th><th>mag [4]</th><th>Mr</th><th>R</th><th>DEC</th><th>stellar_mass</th><th>mass_weight_age_err</th><th>gi_o</th><th>index</th><th>rabs</th><th>gr_o_err</th><th>gi_o_err</th><th>iabs</th><th>mass</th><th>best_chisq</th><th>mass_err</th><th>kii_err</th><th>kri_err</th><th>ssfr_std</th><th>kii</th><th>best_model</th><th>distmod</th><th>best_zmet</th><th>mcMass</th><th>iobs</th><th>taMass</th><th>mass_weight_age</th><th>kri</th><th>zmet</th><th>gr_o</th><th>ssfr</th></tr></thead>\n",
       "<thead><tr><th>float64</th><th>float64</th><th>float64</th><th>float64</th><th>int64</th><th>int64</th><th>int64</th><th>float64</th><th>float64</th><th>float32</th><th>float64</th><th>float64</th><th>float32</th><th>float64</th><th>float64</th><th>int64</th><th>float64</th><th>float64</th><th>float64</th><th>float64</th><th>float64</th><th>float64</th><th>float64</th><th>float64</th><th>float64</th><th>float64</th><th>float64</th><th>int64</th><th>float64</th><th>float64</th><th>float64</th><th>float64</th><th>float64</th><th>float64</th><th>float64</th><th>float64</th><th>float64</th><th>float64</th></tr></thead>\n",
       "<tr><td>0.005691922059039469 .. 0.004706496002175418</td><td>0.17421725742860228</td><td>0.004344458409414786</td><td>-0.8320560176797684</td><td>91600026411</td><td>2181</td><td>1625017732</td><td>66.80728771716849</td><td>19.65122547326335 .. 17.71570720849284</td><td>-21.38117</td><td>8.230458525941087</td><td>-25.75125730134811</td><td>36701516000.0</td><td>5.9397657289835495</td><td>1.123262497149159</td><td>0</td><td>-21.495782369987502</td><td>0.008748036747899144</td><td>0.012199456269456762</td><td>-21.889631227043292</td><td>10.910094817996804</td><td>0.17421725742860228</td><td>0.02115168415838831</td><td>0.0031768184458425166</td><td>0.39732400384789346</td><td>19.739965413796924</td><td>-0.2779905292717763</td><td>840</td><td>39.627247961196</td><td>0.02870468757693813</td><td>10.538675791205941</td><td>18.01560726342448</td><td>10.69413623882173</td><td>4.902458591582031</td><td>0.11585832778401345</td><td>0.03</td><td>0.729413640093369</td><td>1.3272829568496228e-15</td></tr>\n",
       "</table>"
      ],
      "text/plain": [
       "<Row index=0>\n",
       "                 magerr [4]                         z_true             zoffset                dmag            CID      mid     GID             RA                       mag [4]                     Mr            R                DEC          stellar_mass mass_weight_age_err        gi_o       index         rabs              gr_o_err             gi_o_err               iabs               mass             best_chisq           mass_err             kii_err              kri_err            ssfr_std              kii         best_model     distmod          best_zmet            mcMass              iobs             taMass       mass_weight_age          kri           zmet         gr_o                ssfr         \n",
       "                  float64                          float64             float64              float64          int64    int64   int64         float64                     float64                  float32       float64           float64          float32          float64            float64      int64       float64             float64              float64              float64            float64             float64             float64              float64              float64            float64             float64         int64        float64           float64            float64            float64           float64           float64            float64       float64      float64             float64        \n",
       "-------------------------------------------- ------------------- -------------------- ------------------- ----------- ----- ---------- ----------------- -------------------------------------- --------- ----------------- ------------------ ------------- ------------------- ----------------- ----- ------------------- -------------------- -------------------- ------------------- ------------------ ------------------- ------------------- --------------------- ------------------- ------------------ ------------------- ---------- --------------- ------------------- ------------------ ----------------- ----------------- ----------------- ------------------- ------- ----------------- ----------------------\n",
       "0.005691922059039469 .. 0.004706496002175418 0.17421725742860228 0.004344458409414786 -0.8320560176797684 91600026411  2181 1625017732 66.80728771716849 19.65122547326335 .. 17.71570720849284 -21.38117 8.230458525941087 -25.75125730134811 36701516000.0  5.9397657289835495 1.123262497149159     0 -21.495782369987502 0.008748036747899144 0.012199456269456762 -21.889631227043292 10.910094817996804 0.17421725742860228 0.02115168415838831 0.0031768184458425166 0.39732400384789346 19.739965413796924 -0.2779905292717763        840 39.627247961196 0.02870468757693813 10.538675791205941 18.01560726342448 10.69413623882173 4.902458591582031 0.11585832778401345    0.03 0.729413640093369 1.3272829568496228e-15"
      ]
     },
     "execution_count": 689,
     "metadata": {},
     "output_type": "execute_result"
    }
   ],
   "source": [
    "galb[np.arange(len(gal),len(gal)+len(galb),dtype=np.int64)[0]-len(gal)]"
   ]
  },
  {
   "cell_type": "code",
   "execution_count": 271,
   "metadata": {},
   "outputs": [],
   "source": [
    "def apply_cuts(data):\n",
    "    smass= data['stellar_mass']\n",
    "    zgal = data['redshift']\n",
    "    mask = (smass>=7e9)\n",
    "    mask&= (zgal>=0.098)&(zgal<=1.02)\n",
    "    return data[mask]\n",
    "\n",
    "def apply_photoz_mask(data,columns):\n",
    "    mask = (data['photoz_mask']).copy()\n",
    "    nall = len(mask)\n",
    "    for col in columns:\n",
    "        if len(data[col])==nall:\n",
    "            data[col] = data[col][mask]\n",
    "    return Table(data)\n",
    "\n",
    "def get_galaxy_given_healpix_pixel(hpx,columns):\n",
    "    ### getting healpix number neighbours\n",
    "    print('Healpixel: %i'%(hpx))\n",
    "    data = gc.get_quantities(columns,native_filters=['healpix_pixel==%s'%(str(hpx))])\n",
    "    data = apply_photoz_mask(data,columns) ## astropy table\n",
    "    return data"
   ]
  },
  {
   "cell_type": "code",
   "execution_count": null,
   "metadata": {},
   "outputs": [],
   "source": []
  },
  {
   "cell_type": "code",
   "execution_count": 420,
   "metadata": {},
   "outputs": [],
   "source": [
    "columns = ['galaxy_id','ra','dec','photoz_mask','stellar_mass','redshift','baseDC2/is_on_red_sequence_gr', 'baseDC2/is_on_red_sequence_ri']\n",
    "columns+= ['mag_true_r_sdss', 'mag_r_sdss', 'Mag_true_r_sdss_z0'] \n",
    "columns+= ['mag_true_i_sdss', 'mag_i_sdss', 'Mag_true_i_sdss_z0'] \n",
    "columns+= ['Mag_true_r_lsst_z0','Mag_true_i_lsst_z0'] "
   ]
  },
  {
   "cell_type": "code",
   "execution_count": 421,
   "metadata": {},
   "outputs": [],
   "source": [
    "hpx = tiles_array[0]\n",
    "data = gc.get_quantities(columns,native_filters=['healpix_pixel == %i'%(hpx)])"
   ]
  },
  {
   "cell_type": "code",
   "execution_count": 532,
   "metadata": {},
   "outputs": [
    {
     "name": "stdout",
     "output_type": "stream",
     "text": [
      "doing: 10066\n",
      "doing: 10067\n",
      "doing: 10068\n",
      "doing: 10069\n",
      "doing: 10070\n",
      "doing: 10071\n",
      "doing: 10072\n",
      "doing: 10073\n",
      "doing: 10074\n",
      "doing: 10193\n",
      "doing: 10194\n",
      "doing: 10195\n",
      "doing: 10196\n",
      "doing: 10197\n",
      "doing: 10198\n",
      "doing: 10199\n",
      "doing: 10200\n",
      "doing: 10201\n",
      "doing: 10202\n",
      "doing: 10321\n",
      "doing: 10322\n",
      "doing: 10323\n",
      "doing: 10324\n",
      "doing: 10325\n",
      "doing: 10326\n",
      "doing: 10327\n",
      "doing: 10328\n",
      "doing: 10329\n",
      "doing: 10444\n",
      "doing: 10445\n",
      "doing: 10446\n",
      "doing: 10447\n",
      "doing: 10448\n",
      "doing: 10449\n",
      "doing: 10450\n",
      "doing: 10451\n",
      "doing: 10452\n",
      "doing: 8786\n",
      "doing: 8787\n",
      "doing: 8788\n",
      "doing: 8789\n",
      "doing: 8790\n",
      "doing: 8791\n",
      "doing: 8792\n",
      "doing: 8793\n",
      "doing: 8794\n",
      "doing: 8913\n",
      "doing: 8914\n",
      "doing: 8915\n",
      "doing: 8916\n",
      "doing: 8917\n",
      "doing: 8918\n",
      "doing: 8919\n",
      "doing: 8920\n",
      "doing: 8921\n",
      "doing: 9042\n",
      "doing: 9043\n",
      "doing: 9044\n",
      "doing: 9045\n",
      "doing: 9046\n",
      "doing: 9047\n",
      "doing: 9048\n",
      "doing: 9049\n",
      "doing: 9050\n",
      "doing: 9169\n",
      "doing: 9170\n",
      "doing: 9171\n",
      "doing: 9172\n",
      "doing: 9173\n",
      "doing: 9174\n",
      "doing: 9175\n",
      "doing: 9176\n",
      "doing: 9177\n",
      "doing: 9178\n",
      "doing: 9298\n",
      "doing: 9299\n",
      "doing: 9300\n",
      "doing: 9301\n",
      "doing: 9302\n",
      "doing: 9303\n",
      "doing: 9304\n",
      "doing: 9305\n",
      "doing: 9306\n",
      "doing: 9425\n",
      "doing: 9426\n",
      "doing: 9427\n",
      "doing: 9428\n",
      "doing: 9429\n",
      "doing: 9430\n",
      "doing: 9431\n",
      "doing: 9432\n",
      "doing: 9433\n",
      "doing: 9434\n",
      "doing: 9554\n",
      "doing: 9555\n",
      "doing: 9556\n",
      "doing: 9557\n",
      "doing: 9558\n",
      "doing: 9559\n",
      "doing: 9560\n",
      "doing: 9561\n",
      "doing: 9562\n",
      "doing: 9681\n",
      "doing: 9682\n",
      "doing: 9683\n",
      "doing: 9684\n",
      "doing: 9685\n",
      "doing: 9686\n",
      "doing: 9687\n",
      "doing: 9688\n",
      "doing: 9689\n",
      "doing: 9690\n",
      "doing: 9810\n",
      "doing: 9811\n",
      "doing: 9812\n",
      "doing: 9813\n",
      "doing: 9814\n",
      "doing: 9815\n",
      "doing: 9816\n",
      "doing: 9817\n",
      "doing: 9818\n",
      "doing: 9937\n",
      "doing: 9938\n",
      "doing: 9939\n",
      "doing: 9940\n",
      "doing: 9941\n",
      "doing: 9942\n",
      "doing: 9943\n",
      "doing: 9944\n",
      "doing: 9945\n",
      "doing: 9946\n",
      "doing: 10066\n",
      "doing: 10067\n",
      "doing: 10068\n",
      "doing: 10069\n",
      "doing: 10070\n",
      "doing: 10071\n",
      "doing: 10072\n",
      "doing: 10073\n",
      "doing: 10074\n",
      "doing: 10193\n",
      "doing: 10194\n",
      "doing: 10195\n",
      "doing: 10196\n",
      "doing: 10197\n",
      "doing: 10198\n",
      "doing: 10199\n",
      "doing: 10200\n",
      "doing: 10201\n",
      "doing: 10202\n",
      "doing: 10321\n",
      "doing: 10322\n",
      "doing: 10323\n",
      "doing: 10324\n",
      "doing: 10325\n",
      "doing: 10326\n",
      "doing: 10327\n",
      "doing: 10328\n",
      "doing: 10329\n",
      "doing: 10444\n",
      "doing: 10445\n",
      "doing: 10446\n",
      "doing: 10447\n",
      "doing: 10448\n",
      "doing: 10449\n",
      "doing: 10450\n",
      "doing: 10451\n",
      "doing: 10452\n",
      "doing: 8786\n",
      "doing: 8787\n",
      "doing: 8788\n",
      "doing: 8789\n",
      "doing: 8790\n",
      "doing: 8791\n",
      "doing: 8792\n",
      "doing: 8793\n",
      "doing: 8794\n",
      "doing: 8913\n",
      "doing: 8914\n",
      "doing: 8915\n",
      "doing: 8916\n",
      "doing: 8917\n",
      "doing: 8918\n",
      "doing: 8919\n",
      "doing: 8920\n",
      "doing: 8921\n",
      "doing: 9042\n",
      "doing: 9043\n",
      "doing: 9044\n",
      "doing: 9045\n",
      "doing: 9046\n",
      "doing: 9047\n",
      "doing: 9048\n",
      "doing: 9049\n",
      "doing: 9050\n",
      "doing: 9169\n",
      "doing: 9170\n",
      "doing: 9171\n",
      "doing: 9172\n",
      "doing: 9173\n",
      "doing: 9174\n",
      "doing: 9175\n",
      "doing: 9176\n",
      "doing: 9177\n",
      "doing: 9178\n",
      "doing: 9298\n",
      "doing: 9299\n",
      "doing: 9300\n",
      "doing: 9301\n",
      "doing: 9302\n",
      "doing: 9303\n",
      "doing: 9304\n",
      "doing: 9305\n",
      "doing: 9306\n",
      "doing: 9425\n",
      "doing: 9426\n",
      "doing: 9427\n",
      "doing: 9428\n",
      "doing: 9429\n",
      "doing: 9430\n",
      "doing: 9431\n",
      "doing: 9432\n",
      "doing: 9433\n",
      "doing: 9434\n",
      "doing: 9554\n",
      "doing: 9555\n",
      "doing: 9556\n",
      "doing: 9557\n",
      "doing: 9558\n",
      "doing: 9559\n",
      "doing: 9560\n",
      "doing: 9561\n",
      "doing: 9562\n",
      "doing: 9681\n",
      "doing: 9682\n",
      "doing: 9683\n",
      "doing: 9684\n",
      "doing: 9685\n",
      "doing: 9686\n",
      "doing: 9687\n",
      "doing: 9688\n",
      "doing: 9689\n",
      "doing: 9690\n",
      "doing: 9810\n",
      "doing: 9811\n",
      "doing: 9812\n",
      "doing: 9813\n",
      "doing: 9814\n",
      "doing: 9815\n",
      "doing: 9816\n",
      "doing: 9817\n",
      "doing: 9818\n",
      "doing: 9937\n",
      "doing: 9938\n",
      "doing: 9939\n",
      "doing: 9940\n",
      "doing: 9941\n",
      "doing: 9942\n",
      "doing: 9943\n",
      "doing: 9944\n",
      "doing: 9945\n",
      "doing: 9946\n",
      "doing: 10066\n",
      "doing: 10067\n",
      "doing: 10068\n",
      "doing: 10069\n",
      "doing: 10070\n",
      "doing: 10071\n",
      "doing: 10072\n",
      "doing: 10073\n",
      "doing: 10074\n",
      "doing: 10193\n",
      "doing: 10194\n",
      "doing: 10195\n",
      "doing: 10196\n",
      "doing: 10197\n",
      "doing: 10198\n",
      "doing: 10199\n",
      "doing: 10200\n",
      "doing: 10201\n",
      "doing: 10202\n",
      "doing: 10321\n",
      "doing: 10322\n",
      "doing: 10323\n",
      "doing: 10324\n",
      "doing: 10325\n",
      "doing: 10326\n",
      "doing: 10327\n",
      "doing: 10328\n",
      "doing: 10329\n",
      "doing: 10444\n",
      "doing: 10445\n",
      "doing: 10446\n",
      "doing: 10447\n",
      "doing: 10448\n",
      "doing: 10449\n",
      "doing: 10450\n",
      "doing: 10451\n",
      "doing: 10452\n",
      "doing: 8786\n",
      "doing: 8787\n",
      "doing: 8788\n",
      "doing: 8789\n",
      "doing: 8790\n",
      "doing: 8791\n",
      "doing: 8792\n",
      "doing: 8793\n",
      "doing: 8794\n",
      "doing: 8913\n",
      "doing: 8914\n",
      "doing: 8915\n",
      "doing: 8916\n",
      "doing: 8917\n",
      "doing: 8918\n",
      "doing: 8919\n",
      "doing: 8920\n",
      "doing: 8921\n",
      "doing: 9042\n",
      "doing: 9043\n",
      "doing: 9044\n",
      "doing: 9045\n",
      "doing: 9046\n",
      "doing: 9047\n",
      "doing: 9048\n",
      "doing: 9049\n",
      "doing: 9050\n",
      "doing: 9169\n",
      "doing: 9170\n",
      "doing: 9171\n",
      "doing: 9172\n",
      "doing: 9173\n",
      "doing: 9174\n",
      "doing: 9175\n",
      "doing: 9176\n",
      "doing: 9177\n",
      "doing: 9178\n",
      "doing: 9298\n",
      "doing: 9299\n",
      "doing: 9300\n",
      "doing: 9301\n",
      "doing: 9302\n",
      "doing: 9303\n",
      "doing: 9304\n",
      "doing: 9305\n",
      "doing: 9306\n",
      "doing: 9425\n",
      "doing: 9426\n",
      "doing: 9427\n",
      "doing: 9428\n",
      "doing: 9429\n",
      "doing: 9430\n",
      "doing: 9431\n",
      "doing: 9432\n",
      "doing: 9433\n",
      "doing: 9434\n",
      "doing: 9554\n",
      "doing: 9555\n",
      "doing: 9556\n",
      "doing: 9557\n",
      "doing: 9558\n",
      "doing: 9559\n",
      "doing: 9560\n",
      "doing: 9561\n",
      "doing: 9562\n",
      "doing: 9681\n",
      "doing: 9682\n",
      "doing: 9683\n",
      "doing: 9684\n",
      "doing: 9685\n",
      "doing: 9686\n",
      "doing: 9687\n",
      "doing: 9688\n",
      "doing: 9689\n",
      "doing: 9690\n",
      "doing: 9810\n",
      "doing: 9811\n",
      "doing: 9812\n",
      "doing: 9813\n",
      "doing: 9814\n",
      "doing: 9815\n",
      "doing: 9816\n",
      "doing: 9817\n",
      "doing: 9818\n",
      "doing: 9937\n",
      "doing: 9938\n",
      "doing: 9939\n",
      "doing: 9940\n",
      "doing: 9941\n",
      "doing: 9942\n",
      "doing: 9943\n",
      "doing: 9944\n",
      "doing: 9945\n",
      "doing: 9946\n",
      "total time: 5047 s\n"
     ]
    }
   ],
   "source": [
    "t0 = time()\n",
    "out = []\n",
    "for hpx in tiles_array:\n",
    "    data = get_galaxy_given_healpix_pixel(hpx,columns)\n",
    "    data = apply_cuts(data)\n",
    "    data = match_samples(g[index],data,sep=0.1/3600)\n",
    "    out.append(data)\n",
    "\n",
    "total_time = time()-t0\n",
    "print('total time: %2.f s'%(total_time))"
   ]
  },
  {
   "cell_type": "code",
   "execution_count": 533,
   "metadata": {},
   "outputs": [],
   "source": [
    "outtable = vstack(out)"
   ]
  },
  {
   "cell_type": "code",
   "execution_count": 648,
   "metadata": {},
   "outputs": [],
   "source": [
    "outfile = 'matched_table.fits'\n",
    "_,index = np.unique(outtable['ran','decn'],return_index=True)\n",
    "data = outtable[index]\n",
    "data.write(outfile,format='fits',overwrite=True)"
   ]
  },
  {
   "cell_type": "code",
   "execution_count": 677,
   "metadata": {},
   "outputs": [
    {
     "name": "stdout",
     "output_type": "stream",
     "text": [
      "recovered percentage: 99.98\n"
     ]
    }
   ],
   "source": [
    "print('recovered percentage: %.2f'% (100.*len(data)/len(g) ))"
   ]
  },
  {
   "cell_type": "code",
   "execution_count": null,
   "metadata": {},
   "outputs": [],
   "source": []
  },
  {
   "cell_type": "code",
   "execution_count": null,
   "metadata": {},
   "outputs": [],
   "source": []
  },
  {
   "cell_type": "code",
   "execution_count": 703,
   "metadata": {},
   "outputs": [],
   "source": [
    "## Check The Output"
   ]
  },
  {
   "cell_type": "code",
   "execution_count": 710,
   "metadata": {},
   "outputs": [],
   "source": [
    "out = Table(getdata('../data/matched_table.fits'))"
   ]
  },
  {
   "cell_type": "code",
   "execution_count": 711,
   "metadata": {},
   "outputs": [],
   "source": [
    "index = out['jid']"
   ]
  },
  {
   "cell_type": "code",
   "execution_count": 718,
   "metadata": {},
   "outputs": [
    {
     "data": {
      "text/plain": [
       "99.99925743309473"
      ]
     },
     "execution_count": 718,
     "metadata": {},
     "output_type": "execute_result"
    }
   ],
   "source": [
    "100*index.size/len(g0)"
   ]
  },
  {
   "cell_type": "code",
   "execution_count": 712,
   "metadata": {},
   "outputs": [
    {
     "data": {
      "text/plain": [
       "<matplotlib.collections.PathCollection at 0x2aaae7f05340>"
      ]
     },
     "execution_count": 712,
     "metadata": {},
     "output_type": "execute_result"
    },
    {
     "data": {
      "image/png": "[encoded data removed]",
      "text/plain": [
       "<Figure size 432x288 with 1 Axes>"
      ]
     },
     "metadata": {
      "needs_background": "light"
     },
     "output_type": "display_data"
    }
   ],
   "source": [
    "plt.scatter(out['redshift'],(g0[index]['z_true']-out['redshift'])/(1+out['redshift']))"
   ]
  },
  {
   "cell_type": "code",
   "execution_count": 713,
   "metadata": {},
   "outputs": [
    {
     "data": {
      "text/plain": [
       "<matplotlib.collections.PathCollection at 0x2aaae5dcbcd0>"
      ]
     },
     "execution_count": 713,
     "metadata": {},
     "output_type": "execute_result"
    },
    {
     "data": {
      "image/png": "[encoded data removed]",
      "text/plain": [
       "<Figure size 432x288 with 1 Axes>"
      ]
     },
     "metadata": {
      "needs_background": "light"
     },
     "output_type": "display_data"
    }
   ],
   "source": [
    "plt.scatter(out['ra'],(g0[index]['RA']-out['ra']))"
   ]
  },
  {
   "cell_type": "code",
   "execution_count": 714,
   "metadata": {},
   "outputs": [
    {
     "data": {
      "image/png": "[encoded data removed]",
      "text/plain": [
       "<Figure size 432x288 with 1 Axes>"
      ]
     },
     "metadata": {
      "needs_background": "light"
     },
     "output_type": "display_data"
    }
   ],
   "source": [
    "plt.scatter(out['stellar_mass'],(g0[index]['stellar_mass']-out['stellar_mass']))\n",
    "plt.xscale('log')"
   ]
  },
  {
   "cell_type": "code",
   "execution_count": null,
   "metadata": {},
   "outputs": [],
   "source": []
  },
  {
   "cell_type": "code",
   "execution_count": 720,
   "metadata": {},
   "outputs": [
    {
     "data": {
      "text/plain": [
       "24.916666666666668"
      ]
     },
     "execution_count": 720,
     "metadata": {},
     "output_type": "execute_result"
    }
   ],
   "source": [
    "1495/60"
   ]
  },
  {
   "cell_type": "code",
   "execution_count": 726,
   "metadata": {},
   "outputs": [
    {
     "data": {
      "text/plain": [
       "0.854452400727289"
      ]
     },
     "execution_count": 726,
     "metadata": {},
     "output_type": "execute_result"
    }
   ],
   "source": [
    "np.count_nonzero(out['baseDC2/is_on_red_sequence_ri'][:len(gal)])/len(gal)"
   ]
  },
  {
   "cell_type": "code",
   "execution_count": 727,
   "metadata": {},
   "outputs": [
    {
     "data": {
      "text/plain": [
       "0.3960652026764611"
      ]
     },
     "execution_count": 727,
     "metadata": {},
     "output_type": "execute_result"
    }
   ],
   "source": [
    "np.count_nonzero(out['baseDC2/is_on_red_sequence_ri'][len(gal):])/len(galb)"
   ]
  },
  {
   "cell_type": "code",
   "execution_count": null,
   "metadata": {},
   "outputs": [],
   "source": []
  }
 ],
 "metadata": {
  "kernelspec": {
   "display_name": "Python 2",
   "language": "python",
   "name": "python2"
  },
  "language_info": {
   "codemirror_mode": {
    "name": "ipython",
    "version": 2
   },
   "file_extension": ".py",
   "mimetype": "text/x-python",
   "name": "python",
   "nbconvert_exporter": "python",
   "pygments_lexer": "ipython2",
   "version": "2.7.15"
  }
 },
 "nbformat": 4,
 "nbformat_minor": 4
}
