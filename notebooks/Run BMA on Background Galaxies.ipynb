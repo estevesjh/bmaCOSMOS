{
 "cells": [
  {
   "cell_type": "markdown",
   "metadata": {},
   "source": [
    "# Run BMA on Background Galaxies\n",
    "\n",
    "In this notebook, I edited the copa functions in order to run BMA on background galaxies using their true redshift."
   ]
  },
  {
   "cell_type": "code",
   "execution_count": null,
   "metadata": {},
   "outputs": [],
   "source": []
  },
  {
   "cell_type": "code",
   "execution_count": 60,
   "metadata": {},
   "outputs": [],
   "source": [
    "import esutil\n",
    "import numpy as np\n",
    "import h5py\n",
    "import os"
   ]
  },
  {
   "cell_type": "code",
   "execution_count": 84,
   "metadata": {},
   "outputs": [],
   "source": [
    "import matplotlib.pyplot as plt"
   ]
  },
  {
   "cell_type": "markdown",
   "metadata": {},
   "source": [
    "# Auxialiary Functions"
   ]
  },
  {
   "cell_type": "code",
   "execution_count": null,
   "metadata": {},
   "outputs": [],
   "source": [
    "def check_not_hf5(hf,path):\n",
    "    return path not in hf.keys()\n",
    "\n",
    "def delete_group(fname,path):\n",
    "    fmaster = h5py.File(fname,'a')\n",
    "    try:\n",
    "        group   = fmaster[path]\n",
    "    except:\n",
    "        fmaster.close()\n",
    "        return\n",
    "\n",
    "    cols = group.keys()\n",
    "    if len(cols)>0:\n",
    "        for col in cols: del group[col]\n",
    "    fmaster.close()\n",
    "    \n",
    "def stack_dict(in_list):\n",
    "    columns = list(in_list[0].keys())\n",
    "    new_dict= dict().fromkeys(columns)\n",
    "    for col in columns:\n",
    "        res = [mydict[col] for mydict in in_list]\n",
    "        new_dict[col] = np.concatenate(res)\n",
    "    return new_dict\n",
    "\n",
    "def read_hdf5_file_to_dict(file,cols=None,indices=None,path='/'):\n",
    "    hf = h5py.File(file, 'r')\n",
    "    \n",
    "    mygroup = hf[path]\n",
    "\n",
    "    if cols is None: cols  = list(mygroup.keys())\n",
    "    if indices is None: indices = np.arange(0,len(mygroup[cols[0]]),1,dtype=np.int64)\n",
    "\n",
    "    mydict= dict().fromkeys(cols)\n",
    "    for col in cols:\n",
    "        mydict[col] = mygroup[col][:][indices]\n",
    "    \n",
    "    hf.close()\n",
    "\n",
    "    return mydict\n",
    "def write_bma_dict_temp_files(files,table,nsize,nchunks):\n",
    "    columns = table.keys()\n",
    "    idxs    = np.linspace(0,nsize,nchunks+1,dtype=np.int64)\n",
    "    \n",
    "    for i,file in enumerate(files):\n",
    "        if not os.path.isfile(file):\n",
    "            hf = h5py.File(file,'w')\n",
    "            hf.create_group('bma')\n",
    "            for col in columns:\n",
    "                ilo,iup = idxs[i],idxs[i+1]\n",
    "                hf.create_dataset('bma/%s/'%col,data=table[col][ilo:iup])\n",
    "            hf.close()\n",
    "    return files"
   ]
  },
  {
   "cell_type": "code",
   "execution_count": 166,
   "metadata": {},
   "outputs": [],
   "source": []
  },
  {
   "cell_type": "markdown",
   "metadata": {},
   "source": [
    "# Loading the master file"
   ]
  },
  {
   "cell_type": "code",
   "execution_count": 167,
   "metadata": {},
   "outputs": [],
   "source": [
    "mfile = '/data/des61.a/data/johnny/CosmoDC2/sample2021/outputs/cosmoDC2_v1.1.4_copa.hdf5'"
   ]
  },
  {
   "cell_type": "code",
   "execution_count": 164,
   "metadata": {},
   "outputs": [],
   "source": [
    "h=0.7\n",
    "def make_bma_catalog_cut(fname,zmin=0.1,zmax=1.,rin=4,rout=6,dz=0.05,dmag_lim=0.,h=0.7):\n",
    "    fmaster = h5py.File(fname, \"a\")\n",
    "\n",
    "    ## check if bma already exists\n",
    "    if check_not_hf5(fmaster['members'],'bma_bkg'):\n",
    "        print('making bma cutout')\n",
    "        columns = fmaster['members/main']\n",
    "        radii   = fmaster['members/main/R'][:]*h\n",
    "        dmag    = fmaster['members/main/dmag'][:]\n",
    "        zoff    = fmaster['members/main/zoffset'][:]\n",
    "        mid     = fmaster['members/main/mid'][:]\n",
    "        z       = fmaster['members/main/z_true'][:]\n",
    "\n",
    "        #cut,    = np.where((radii<=rmax)&(dmag<=dmag_lim))\n",
    "        mask  = (z<=zmax)&(z>=zmin)\n",
    "        mask &= (radii<=rout)&(radii>=rin)\n",
    "        mask &= (np.abs(zoff)<=dz)\n",
    "        cut   = np.where(mask)[0]\n",
    "        try: fmaster.create_group('members/bma_bkg/')\n",
    "        except: print('group already exists')\n",
    "            \n",
    "        fmaster.create_dataset('members/bma_bkg/mid/', data=mid[cut])\n",
    "        fmaster['members/bma_bkg/'].attrs['rout'] = rout\n",
    "        fmaster['members/bma_bkg/'].attrs['rin']  = rin\n",
    "        fmaster['members/bma_bkg/'].attrs['zmin'] = zmin\n",
    "        fmaster['members/bma_bkg/'].attrs['zmax'] = zmax\n",
    "        fmaster['members/bma_bkg/'].attrs['dmag'] = dmag_lim\n",
    "        fmaster['members/bma_bkg/'].attrs['nsize'] = int(cut.size)\n",
    "    else:\n",
    "        print('BMA cut already exists; overwrite=False')\n",
    "        fmaster.close()\n",
    "        delete_group(mfile,'members/bma_bkg/')\n",
    "        #make_bma_catalog_cut(fname,zmin=zmin,zmax=zmax,rin=rin,rout=rout,dz=dz,dmag_lim=dmag_lim)\n",
    "        \n",
    "    bma_indices = fmaster['members/bma_bkg/mid/'][:]\n",
    "    fmaster.close()\n",
    "    return bma_indices"
   ]
  },
  {
   "cell_type": "code",
   "execution_count": 168,
   "metadata": {},
   "outputs": [
    {
     "name": "stdout",
     "output_type": "stream",
     "text": [
      "making bma cutout\n",
      "group already exists\n"
     ]
    }
   ],
   "source": [
    "indices = make_bma_catalog_cut(mfile,zmin=0.1,zmax=1.,rin=5.75,rout=6.,dz=0.05,dmag_lim=0.)"
   ]
  },
  {
   "cell_type": "code",
   "execution_count": 170,
   "metadata": {},
   "outputs": [
    {
     "data": {
      "text/plain": [
       "3674"
      ]
     },
     "execution_count": 170,
     "metadata": {},
     "output_type": "execute_result"
    }
   ],
   "source": [
    "indices.size/100"
   ]
  },
  {
   "cell_type": "code",
   "execution_count": null,
   "metadata": {},
   "outputs": [],
   "source": []
  },
  {
   "cell_type": "code",
   "execution_count": 183,
   "metadata": {},
   "outputs": [],
   "source": [
    "def make_bma_input_temp_file(fname,files,indices,nsize,nchunks):\n",
    "    mcols       = ['mid','CID','z_true','mag','magerr','Mr']                ## master/main/ columns\n",
    "    out_columns = ['mid','CID','redshift','i','ierr','gr','ri','iz','grerr','rierr','izerr']\n",
    "    \n",
    "    if not os.path.isfile(files[0]):\n",
    "        mydict = read_hdf5_file_to_dict(fname,indices=indices,cols=mcols,path='members/main/')\n",
    "\n",
    "        out= dict().fromkeys(out_columns)\n",
    "        for col in mcols:\n",
    "            out[col] = mydict[col][:]\n",
    "        \n",
    "        out['indices'] = np.arange(0,out['mid'].size,1,dtype=np.int64)\n",
    "\n",
    "        out['i']    = mydict['mag'][:,2]\n",
    "        out['ierr'] = mydict['magerr'][:,2]\n",
    "\n",
    "        out['gr']   = mydict['mag'][:,0] - mydict['mag'][:,1]\n",
    "        out['ri']   = mydict['mag'][:,1] - mydict['mag'][:,2]\n",
    "        out['iz']   = mydict['mag'][:,2] - mydict['mag'][:,3]\n",
    "\n",
    "        out['grerr']= np.sqrt(mydict['magerr'][:,0]**2 + mydict['magerr'][:,1]**2)\n",
    "        out['rierr']= np.sqrt(mydict['magerr'][:,1]**2 + mydict['magerr'][:,2]**2)\n",
    "        out['izerr']= np.sqrt(mydict['magerr'][:,2]**2 + mydict['magerr'][:,3]**2)\n",
    "        \n",
    "        out['redshift'] = mydict['z_true']\n",
    "        write_bma_dict_temp_files(files,out,nsize,nchunks)\n",
    "    return out"
   ]
  },
  {
   "cell_type": "code",
   "execution_count": 185,
   "metadata": {},
   "outputs": [],
   "source": [
    "fname = mfile\n",
    "nsize  = indices.size\n",
    "nchunks= 100\n",
    "\n",
    "root  = os.path.dirname(mfile)\n",
    "bma_temp_input_files  = [root+'temp_file/bkg_input_{:05d}.hdf5'.format(i+1) for i in range(nchunks)]\n",
    "bma_temp_output_files = [root+'temp_file/bkg_output_{:05d}.hdf5'.format(i+1) for i in range(nchunks)]\n",
    "\n",
    "data = make_bma_input_temp_file(mfile,bma_temp_input_files,indices,nsize,nchunks)"
   ]
  },
  {
   "cell_type": "code",
   "execution_count": 173,
   "metadata": {},
   "outputs": [
    {
     "data": {
      "text/plain": [
       "['/data/des61.a/data/johnny/CosmoDC2/sample2021/outputs//temp_file/bkg_input_00001.hdf5',\n",
       " '/data/des61.a/data/johnny/CosmoDC2/sample2021/outputs//temp_file/bkg_input_00002.hdf5',\n",
       " '/data/des61.a/data/johnny/CosmoDC2/sample2021/outputs//temp_file/bkg_input_00003.hdf5',\n",
       " '/data/des61.a/data/johnny/CosmoDC2/sample2021/outputs//temp_file/bkg_input_00004.hdf5',\n",
       " '/data/des61.a/data/johnny/CosmoDC2/sample2021/outputs//temp_file/bkg_input_00005.hdf5',\n",
       " '/data/des61.a/data/johnny/CosmoDC2/sample2021/outputs//temp_file/bkg_input_00006.hdf5',\n",
       " '/data/des61.a/data/johnny/CosmoDC2/sample2021/outputs//temp_file/bkg_input_00007.hdf5',\n",
       " '/data/des61.a/data/johnny/CosmoDC2/sample2021/outputs//temp_file/bkg_input_00008.hdf5',\n",
       " '/data/des61.a/data/johnny/CosmoDC2/sample2021/outputs//temp_file/bkg_input_00009.hdf5',\n",
       " '/data/des61.a/data/johnny/CosmoDC2/sample2021/outputs//temp_file/bkg_input_00010.hdf5',\n",
       " '/data/des61.a/data/johnny/CosmoDC2/sample2021/outputs//temp_file/bkg_input_00011.hdf5',\n",
       " '/data/des61.a/data/johnny/CosmoDC2/sample2021/outputs//temp_file/bkg_input_00012.hdf5',\n",
       " '/data/des61.a/data/johnny/CosmoDC2/sample2021/outputs//temp_file/bkg_input_00013.hdf5',\n",
       " '/data/des61.a/data/johnny/CosmoDC2/sample2021/outputs//temp_file/bkg_input_00014.hdf5',\n",
       " '/data/des61.a/data/johnny/CosmoDC2/sample2021/outputs//temp_file/bkg_input_00015.hdf5',\n",
       " '/data/des61.a/data/johnny/CosmoDC2/sample2021/outputs//temp_file/bkg_input_00016.hdf5',\n",
       " '/data/des61.a/data/johnny/CosmoDC2/sample2021/outputs//temp_file/bkg_input_00017.hdf5',\n",
       " '/data/des61.a/data/johnny/CosmoDC2/sample2021/outputs//temp_file/bkg_input_00018.hdf5',\n",
       " '/data/des61.a/data/johnny/CosmoDC2/sample2021/outputs//temp_file/bkg_input_00019.hdf5',\n",
       " '/data/des61.a/data/johnny/CosmoDC2/sample2021/outputs//temp_file/bkg_input_00020.hdf5',\n",
       " '/data/des61.a/data/johnny/CosmoDC2/sample2021/outputs//temp_file/bkg_input_00021.hdf5',\n",
       " '/data/des61.a/data/johnny/CosmoDC2/sample2021/outputs//temp_file/bkg_input_00022.hdf5',\n",
       " '/data/des61.a/data/johnny/CosmoDC2/sample2021/outputs//temp_file/bkg_input_00023.hdf5',\n",
       " '/data/des61.a/data/johnny/CosmoDC2/sample2021/outputs//temp_file/bkg_input_00024.hdf5',\n",
       " '/data/des61.a/data/johnny/CosmoDC2/sample2021/outputs//temp_file/bkg_input_00025.hdf5',\n",
       " '/data/des61.a/data/johnny/CosmoDC2/sample2021/outputs//temp_file/bkg_input_00026.hdf5',\n",
       " '/data/des61.a/data/johnny/CosmoDC2/sample2021/outputs//temp_file/bkg_input_00027.hdf5',\n",
       " '/data/des61.a/data/johnny/CosmoDC2/sample2021/outputs//temp_file/bkg_input_00028.hdf5',\n",
       " '/data/des61.a/data/johnny/CosmoDC2/sample2021/outputs//temp_file/bkg_input_00029.hdf5',\n",
       " '/data/des61.a/data/johnny/CosmoDC2/sample2021/outputs//temp_file/bkg_input_00030.hdf5',\n",
       " '/data/des61.a/data/johnny/CosmoDC2/sample2021/outputs//temp_file/bkg_input_00031.hdf5',\n",
       " '/data/des61.a/data/johnny/CosmoDC2/sample2021/outputs//temp_file/bkg_input_00032.hdf5',\n",
       " '/data/des61.a/data/johnny/CosmoDC2/sample2021/outputs//temp_file/bkg_input_00033.hdf5',\n",
       " '/data/des61.a/data/johnny/CosmoDC2/sample2021/outputs//temp_file/bkg_input_00034.hdf5',\n",
       " '/data/des61.a/data/johnny/CosmoDC2/sample2021/outputs//temp_file/bkg_input_00035.hdf5',\n",
       " '/data/des61.a/data/johnny/CosmoDC2/sample2021/outputs//temp_file/bkg_input_00036.hdf5',\n",
       " '/data/des61.a/data/johnny/CosmoDC2/sample2021/outputs//temp_file/bkg_input_00037.hdf5',\n",
       " '/data/des61.a/data/johnny/CosmoDC2/sample2021/outputs//temp_file/bkg_input_00038.hdf5',\n",
       " '/data/des61.a/data/johnny/CosmoDC2/sample2021/outputs//temp_file/bkg_input_00039.hdf5',\n",
       " '/data/des61.a/data/johnny/CosmoDC2/sample2021/outputs//temp_file/bkg_input_00040.hdf5',\n",
       " '/data/des61.a/data/johnny/CosmoDC2/sample2021/outputs//temp_file/bkg_input_00041.hdf5',\n",
       " '/data/des61.a/data/johnny/CosmoDC2/sample2021/outputs//temp_file/bkg_input_00042.hdf5',\n",
       " '/data/des61.a/data/johnny/CosmoDC2/sample2021/outputs//temp_file/bkg_input_00043.hdf5',\n",
       " '/data/des61.a/data/johnny/CosmoDC2/sample2021/outputs//temp_file/bkg_input_00044.hdf5',\n",
       " '/data/des61.a/data/johnny/CosmoDC2/sample2021/outputs//temp_file/bkg_input_00045.hdf5',\n",
       " '/data/des61.a/data/johnny/CosmoDC2/sample2021/outputs//temp_file/bkg_input_00046.hdf5',\n",
       " '/data/des61.a/data/johnny/CosmoDC2/sample2021/outputs//temp_file/bkg_input_00047.hdf5',\n",
       " '/data/des61.a/data/johnny/CosmoDC2/sample2021/outputs//temp_file/bkg_input_00048.hdf5',\n",
       " '/data/des61.a/data/johnny/CosmoDC2/sample2021/outputs//temp_file/bkg_input_00049.hdf5',\n",
       " '/data/des61.a/data/johnny/CosmoDC2/sample2021/outputs//temp_file/bkg_input_00050.hdf5',\n",
       " '/data/des61.a/data/johnny/CosmoDC2/sample2021/outputs//temp_file/bkg_input_00051.hdf5',\n",
       " '/data/des61.a/data/johnny/CosmoDC2/sample2021/outputs//temp_file/bkg_input_00052.hdf5',\n",
       " '/data/des61.a/data/johnny/CosmoDC2/sample2021/outputs//temp_file/bkg_input_00053.hdf5',\n",
       " '/data/des61.a/data/johnny/CosmoDC2/sample2021/outputs//temp_file/bkg_input_00054.hdf5',\n",
       " '/data/des61.a/data/johnny/CosmoDC2/sample2021/outputs//temp_file/bkg_input_00055.hdf5',\n",
       " '/data/des61.a/data/johnny/CosmoDC2/sample2021/outputs//temp_file/bkg_input_00056.hdf5',\n",
       " '/data/des61.a/data/johnny/CosmoDC2/sample2021/outputs//temp_file/bkg_input_00057.hdf5',\n",
       " '/data/des61.a/data/johnny/CosmoDC2/sample2021/outputs//temp_file/bkg_input_00058.hdf5',\n",
       " '/data/des61.a/data/johnny/CosmoDC2/sample2021/outputs//temp_file/bkg_input_00059.hdf5',\n",
       " '/data/des61.a/data/johnny/CosmoDC2/sample2021/outputs//temp_file/bkg_input_00060.hdf5',\n",
       " '/data/des61.a/data/johnny/CosmoDC2/sample2021/outputs//temp_file/bkg_input_00061.hdf5',\n",
       " '/data/des61.a/data/johnny/CosmoDC2/sample2021/outputs//temp_file/bkg_input_00062.hdf5',\n",
       " '/data/des61.a/data/johnny/CosmoDC2/sample2021/outputs//temp_file/bkg_input_00063.hdf5',\n",
       " '/data/des61.a/data/johnny/CosmoDC2/sample2021/outputs//temp_file/bkg_input_00064.hdf5',\n",
       " '/data/des61.a/data/johnny/CosmoDC2/sample2021/outputs//temp_file/bkg_input_00065.hdf5',\n",
       " '/data/des61.a/data/johnny/CosmoDC2/sample2021/outputs//temp_file/bkg_input_00066.hdf5',\n",
       " '/data/des61.a/data/johnny/CosmoDC2/sample2021/outputs//temp_file/bkg_input_00067.hdf5',\n",
       " '/data/des61.a/data/johnny/CosmoDC2/sample2021/outputs//temp_file/bkg_input_00068.hdf5',\n",
       " '/data/des61.a/data/johnny/CosmoDC2/sample2021/outputs//temp_file/bkg_input_00069.hdf5',\n",
       " '/data/des61.a/data/johnny/CosmoDC2/sample2021/outputs//temp_file/bkg_input_00070.hdf5',\n",
       " '/data/des61.a/data/johnny/CosmoDC2/sample2021/outputs//temp_file/bkg_input_00071.hdf5',\n",
       " '/data/des61.a/data/johnny/CosmoDC2/sample2021/outputs//temp_file/bkg_input_00072.hdf5',\n",
       " '/data/des61.a/data/johnny/CosmoDC2/sample2021/outputs//temp_file/bkg_input_00073.hdf5',\n",
       " '/data/des61.a/data/johnny/CosmoDC2/sample2021/outputs//temp_file/bkg_input_00074.hdf5',\n",
       " '/data/des61.a/data/johnny/CosmoDC2/sample2021/outputs//temp_file/bkg_input_00075.hdf5',\n",
       " '/data/des61.a/data/johnny/CosmoDC2/sample2021/outputs//temp_file/bkg_input_00076.hdf5',\n",
       " '/data/des61.a/data/johnny/CosmoDC2/sample2021/outputs//temp_file/bkg_input_00077.hdf5',\n",
       " '/data/des61.a/data/johnny/CosmoDC2/sample2021/outputs//temp_file/bkg_input_00078.hdf5',\n",
       " '/data/des61.a/data/johnny/CosmoDC2/sample2021/outputs//temp_file/bkg_input_00079.hdf5',\n",
       " '/data/des61.a/data/johnny/CosmoDC2/sample2021/outputs//temp_file/bkg_input_00080.hdf5',\n",
       " '/data/des61.a/data/johnny/CosmoDC2/sample2021/outputs//temp_file/bkg_input_00081.hdf5',\n",
       " '/data/des61.a/data/johnny/CosmoDC2/sample2021/outputs//temp_file/bkg_input_00082.hdf5',\n",
       " '/data/des61.a/data/johnny/CosmoDC2/sample2021/outputs//temp_file/bkg_input_00083.hdf5',\n",
       " '/data/des61.a/data/johnny/CosmoDC2/sample2021/outputs//temp_file/bkg_input_00084.hdf5',\n",
       " '/data/des61.a/data/johnny/CosmoDC2/sample2021/outputs//temp_file/bkg_input_00085.hdf5',\n",
       " '/data/des61.a/data/johnny/CosmoDC2/sample2021/outputs//temp_file/bkg_input_00086.hdf5',\n",
       " '/data/des61.a/data/johnny/CosmoDC2/sample2021/outputs//temp_file/bkg_input_00087.hdf5',\n",
       " '/data/des61.a/data/johnny/CosmoDC2/sample2021/outputs//temp_file/bkg_input_00088.hdf5',\n",
       " '/data/des61.a/data/johnny/CosmoDC2/sample2021/outputs//temp_file/bkg_input_00089.hdf5',\n",
       " '/data/des61.a/data/johnny/CosmoDC2/sample2021/outputs//temp_file/bkg_input_00090.hdf5',\n",
       " '/data/des61.a/data/johnny/CosmoDC2/sample2021/outputs//temp_file/bkg_input_00091.hdf5',\n",
       " '/data/des61.a/data/johnny/CosmoDC2/sample2021/outputs//temp_file/bkg_input_00092.hdf5',\n",
       " '/data/des61.a/data/johnny/CosmoDC2/sample2021/outputs//temp_file/bkg_input_00093.hdf5',\n",
       " '/data/des61.a/data/johnny/CosmoDC2/sample2021/outputs//temp_file/bkg_input_00094.hdf5',\n",
       " '/data/des61.a/data/johnny/CosmoDC2/sample2021/outputs//temp_file/bkg_input_00095.hdf5',\n",
       " '/data/des61.a/data/johnny/CosmoDC2/sample2021/outputs//temp_file/bkg_input_00096.hdf5',\n",
       " '/data/des61.a/data/johnny/CosmoDC2/sample2021/outputs//temp_file/bkg_input_00097.hdf5',\n",
       " '/data/des61.a/data/johnny/CosmoDC2/sample2021/outputs//temp_file/bkg_input_00098.hdf5',\n",
       " '/data/des61.a/data/johnny/CosmoDC2/sample2021/outputs//temp_file/bkg_input_00099.hdf5',\n",
       " '/data/des61.a/data/johnny/CosmoDC2/sample2021/outputs//temp_file/bkg_input_00100.hdf5']"
      ]
     },
     "execution_count": 173,
     "metadata": {},
     "output_type": "execute_result"
    }
   ],
   "source": [
    "bma_temp_input_files"
   ]
  },
  {
   "cell_type": "markdown",
   "metadata": {},
   "source": [
    "# Visualizing the input sample"
   ]
  },
  {
   "cell_type": "code",
   "execution_count": 180,
   "metadata": {},
   "outputs": [
    {
     "data": {
      "text/plain": [
       "{'CID': array([ 91600026411,  91600026411,  91600026411, ..., 102000186338,\n",
       "        102000186338, 102000186338]),\n",
       " 'Mr': array([-21.38117 , -20.044697, -18.567278, ..., -20.867363, -20.10088 ,\n",
       "        -19.536366], dtype=float32),\n",
       " 'gr': array([1.13479424, 0.84538269, 1.05239105, ..., 1.61550903, 0.93707848,\n",
       "        1.35031891]),\n",
       " 'grerr': array([0.00666416, 0.02346434, 0.04170643, ..., 0.10027803, 0.06970059,\n",
       "        0.19854481]),\n",
       " 'i': array([18.01560726, 20.23461514, 20.80471928, ..., 21.13563352,\n",
       "        21.67952703, 22.39036397]),\n",
       " 'ierr': array([0.00399152, 0.01580468, 0.02324518, ..., 0.02921337, 0.04279864,\n",
       "        0.07117561]),\n",
       " 'indices': array([     0,      1,      2, ..., 367443, 367444, 367445]),\n",
       " 'iz': array([0.29990005, 0.26721573, 0.25525856, ..., 0.39838219, 0.18682289,\n",
       "        0.25603676]),\n",
       " 'izerr': array([0.00617117, 0.02434872, 0.03723495, ..., 0.04484057, 0.08019943,\n",
       "        0.1504043 ]),\n",
       " 'mag': array([[19.65122547, 18.51643124, 18.01560726, 17.71570721],\n",
       "        [21.46530324, 20.61992055, 20.23461514, 19.96739942],\n",
       "        [22.30254871, 21.25015766, 20.80471928, 20.54946072],\n",
       "        ...,\n",
       "        [23.50830084, 21.8927918 , 21.13563352, 20.73725134],\n",
       "        [22.93692182, 21.99984334, 21.67952703, 21.49270414],\n",
       "        [24.30794362, 22.95762471, 22.39036397, 22.13432721]]),\n",
       " 'magerr': array([[0.00569192, 0.00346599, 0.00399152, 0.0047065 ],\n",
       "        [0.01871428, 0.01415454, 0.01580468, 0.01852221],\n",
       "        [0.03528444, 0.02223589, 0.02324518, 0.02908785],\n",
       "        ...,\n",
       "        [0.09395446, 0.03504629, 0.02921337, 0.03401846],\n",
       "        [0.05858966, 0.03775479, 0.04279864, 0.06782495],\n",
       "        [0.18528425, 0.07134275, 0.07117561, 0.13249712]]),\n",
       " 'mid': array([    2181,     2183,     2184, ..., 50070806, 50070807, 50070812]),\n",
       " 'redshift': array([0.17421726, 0.24794787, 0.16923878, ..., 0.44509576, 0.44290919,\n",
       "        0.45446662]),\n",
       " 'ri': array([0.50082397, 0.3853054 , 0.44543839, ..., 0.75715828, 0.32031631,\n",
       "        0.56726074]),\n",
       " 'rierr': array([0.00528634, 0.02121648, 0.03216789, ..., 0.04562525, 0.05707142,\n",
       "        0.10077577]),\n",
       " 'z_true': array([0.17421726, 0.24794787, 0.16923878, ..., 0.44509576, 0.44290919,\n",
       "        0.45446662])}"
      ]
     },
     "execution_count": 180,
     "metadata": {},
     "output_type": "execute_result"
    }
   ],
   "source": [
    "data"
   ]
  },
  {
   "cell_type": "code",
   "execution_count": 181,
   "metadata": {},
   "outputs": [
    {
     "data": {
      "text/plain": [
       "<matplotlib.collections.PathCollection at 0x7f1eb0831410>"
      ]
     },
     "execution_count": 181,
     "metadata": {},
     "output_type": "execute_result"
    },
    {
     "data": {
      "image/png": "[encoded data removed]",
      "text/plain": [
       "<Figure size 432x288 with 1 Axes>"
      ]
     },
     "metadata": {},
     "output_type": "display_data"
    }
   ],
   "source": [
    "plt.scatter(data['z_true'],data['i'],s=10,alpha=0.1)"
   ]
  },
  {
   "cell_type": "code",
   "execution_count": null,
   "metadata": {},
   "outputs": [],
   "source": []
  },
  {
   "cell_type": "markdown",
   "metadata": {},
   "source": [
    "# Running BMA"
   ]
  },
  {
   "cell_type": "code",
   "execution_count": 194,
   "metadata": {},
   "outputs": [],
   "source": [
    "from joblib import Parallel, delayed\n",
    "import sys\n",
    "\n",
    "sys.path.append('/home/s1/jesteves/git/ccopa/python/bma')\n",
    "import smass\n",
    "\n",
    "def bma_trigger(infiles,outfiles,inPath,\n",
    "               nCores=2,batchStart=0,batchEnd=None,overwrite=False):\n",
    "    if batchEnd is None: batchEnd = self.bma_nchunks\n",
    "\n",
    "    batches = np.arange(batchStart,batchEnd,1,dtype=np.int64)\n",
    "\n",
    "    print('starting parallel process')\n",
    "    print('runing on the following batches:',batches)\n",
    "    Parallel(n_jobs=nCores)(\n",
    "        delayed(smass.calc_copa_v2)(infiles[i], outfiles[i], inPath) for i in batches)\n",
    "    print('ended smass calc')"
   ]
  },
  {
   "cell_type": "code",
   "execution_count": null,
   "metadata": {},
   "outputs": [
    {
     "name": "stdout",
     "output_type": "stream",
     "text": [
      "starting parallel process\n",
      "('runing on the following batches:', array([ 0,  1,  2,  3,  4,  5,  6,  7,  8,  9, 10, 11, 12, 13, 14, 15, 16,\n",
      "       17, 18, 19, 20, 21, 22, 23, 24, 25, 26, 27, 28, 29, 30, 31, 32, 33,\n",
      "       34, 35, 36, 37, 38, 39, 40, 41, 42, 43, 44, 45, 46, 47, 48, 49, 50,\n",
      "       51, 52, 53, 54, 55, 56, 57, 58, 59, 60, 61, 62, 63, 64, 65, 66, 67,\n",
      "       68, 69, 70, 71, 72, 73, 74, 75, 76, 77, 78, 79, 80, 81, 82, 83, 84,\n",
      "       85, 86, 87, 88, 89, 90, 91, 92, 93, 94, 95, 96, 97, 98, 99]))\n"
     ]
    }
   ],
   "source": [
    "nCores = 51\n",
    "libPath= '/data/des61.a/data/pbarchi/galaxyClusters/simha_miles_Nov2016/'\n",
    "bma_trigger(bma_temp_input_files, bma_temp_output_files, libPath,\n",
    "            nCores=nCores,batchStart=0,batchEnd=nchunks)"
   ]
  },
  {
   "cell_type": "code",
   "execution_count": null,
   "metadata": {},
   "outputs": [],
   "source": []
  },
  {
   "cell_type": "code",
   "execution_count": null,
   "metadata": {},
   "outputs": [],
   "source": []
  },
  {
   "cell_type": "markdown",
   "metadata": {},
   "source": [
    "# Saving as a Fits File"
   ]
  },
  {
   "cell_type": "code",
   "execution_count": null,
   "metadata": {},
   "outputs": [],
   "source": [
    "from astropy.table import Table, vstack, join\n",
    "\n",
    "def combine_hdf5_files(files,path='/'):\n",
    "    \"\"\" Combine hdf5 files with same data structure\n",
    "    \"\"\"\n",
    "    mylist = []\n",
    "    count  = 0\n",
    "    for file in files:\n",
    "        if os.path.isfile(file):\n",
    "            mydict = read_hdf5_file_to_dict(file,path=path)\n",
    "            mylist.append(mydict)\n",
    "        else:\n",
    "            print('missing the temp file: %s'%(file))\n",
    "            count+=1\n",
    "\n",
    "    all_dict=stack_dict(mylist)\n",
    "    return all_dict, count"
   ]
  },
  {
   "cell_type": "code",
   "execution_count": null,
   "metadata": {},
   "outputs": [],
   "source": [
    "table, nmissing = combine_hdf5_files(bma_temp_output_files,path='bma/')"
   ]
  },
  {
   "cell_type": "code",
   "execution_count": null,
   "metadata": {},
   "outputs": [],
   "source": [
    "new_indices = table['mid'][:]\n",
    "out_data   = Talbe(table)"
   ]
  },
  {
   "cell_type": "code",
   "execution_count": null,
   "metadata": {},
   "outputs": [],
   "source": [
    "mcols       = ['mid','stellar_mass','CID','GID','RA','DEC','mag','magerr','R','dmag','z_true','zoffset']  ## master/main/ columns\n",
    "mydict      = read_hdf5_file_to_dict(mfile,indices=new_indices,cols=mcols,path='members/main/')\n",
    "data        = Table(mydict)"
   ]
  },
  {
   "cell_type": "code",
   "execution_count": null,
   "metadata": {},
   "outputs": [],
   "source": [
    "bma_data = join(out_data,data,keys=['mid'])"
   ]
  },
  {
   "cell_type": "code",
   "execution_count": null,
   "metadata": {},
   "outputs": [],
   "source": [
    "outfile = root+'/cosmoDC2_v1.1.4_bma_bkg_ztrue.fits'\n",
    "bma_data.write(outfile,format='fits',overwrite=True)"
   ]
  },
  {
   "cell_type": "markdown",
   "metadata": {},
   "source": [
    "# Removing temp files"
   ]
  },
  {
   "cell_type": "code",
   "execution_count": null,
   "metadata": {},
   "outputs": [],
   "source": []
  },
  {
   "cell_type": "code",
   "execution_count": null,
   "metadata": {},
   "outputs": [],
   "source": [
    "def remove_files(files):\n",
    "    for file in files:\n",
    "        os.remove(file)"
   ]
  },
  {
   "cell_type": "code",
   "execution_count": null,
   "metadata": {},
   "outputs": [],
   "source": [
    "#remove_files(bma_temp_input_files)\n",
    "#remove_files(bma_temp_output_files)"
   ]
  }
 ],
 "metadata": {
  "kernelspec": {
   "display_name": "Python 2",
   "language": "python",
   "name": "python2"
  },
  "language_info": {
   "codemirror_mode": {
    "name": "ipython",
    "version": 2
   },
   "file_extension": ".py",
   "mimetype": "text/x-python",
   "name": "python",
   "nbconvert_exporter": "python",
   "pygments_lexer": "ipython2",
   "version": "2.7.15"
  }
 },
 "nbformat": 4,
 "nbformat_minor": 2
}
